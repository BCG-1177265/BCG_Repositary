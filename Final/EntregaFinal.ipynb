{
  "nbformat": 4,
  "nbformat_minor": 0,
  "metadata": {
    "colab": {
      "name": "EntregaFinal.ipynb",
      "provenance": [],
      "collapsed_sections": []
    },
    "kernelspec": {
      "name": "python3",
      "display_name": "Python 3"
    },
    "language_info": {
      "name": "python"
    }
  },
  "cells": [
    {
      "cell_type": "code",
      "execution_count": 7,
      "metadata": {
        "colab": {
          "base_uri": "https://localhost:8080/",
          "height": 0
        },
        "id": "JErC38TZiRuP",
        "outputId": "6cdfece3-8939-4f9c-e409-e691fb23bef0"
      },
      "outputs": [
        {
          "output_type": "stream",
          "name": "stdout",
          "text": [
            "Requirement already satisfied: seaborn in /usr/local/lib/python3.7/dist-packages (0.11.2)\n",
            "Requirement already satisfied: matplotlib>=2.2 in /usr/local/lib/python3.7/dist-packages (from seaborn) (3.2.2)\n",
            "Requirement already satisfied: numpy>=1.15 in /usr/local/lib/python3.7/dist-packages (from seaborn) (1.21.5)\n",
            "Requirement already satisfied: pandas>=0.23 in /usr/local/lib/python3.7/dist-packages (from seaborn) (1.3.5)\n",
            "Requirement already satisfied: scipy>=1.0 in /usr/local/lib/python3.7/dist-packages (from seaborn) (1.4.1)\n",
            "Requirement already satisfied: cycler>=0.10 in /usr/local/lib/python3.7/dist-packages (from matplotlib>=2.2->seaborn) (0.11.0)\n",
            "Requirement already satisfied: python-dateutil>=2.1 in /usr/local/lib/python3.7/dist-packages (from matplotlib>=2.2->seaborn) (2.8.2)\n",
            "Requirement already satisfied: kiwisolver>=1.0.1 in /usr/local/lib/python3.7/dist-packages (from matplotlib>=2.2->seaborn) (1.3.2)\n",
            "Requirement already satisfied: pyparsing!=2.0.4,!=2.1.2,!=2.1.6,>=2.0.1 in /usr/local/lib/python3.7/dist-packages (from matplotlib>=2.2->seaborn) (3.0.7)\n",
            "Requirement already satisfied: pytz>=2017.3 in /usr/local/lib/python3.7/dist-packages (from pandas>=0.23->seaborn) (2018.9)\n",
            "Requirement already satisfied: six>=1.5 in /usr/local/lib/python3.7/dist-packages (from python-dateutil>=2.1->matplotlib>=2.2->seaborn) (1.15.0)\n"
          ]
        }
      ],
      "source": [
        "pip install seaborn"
      ]
    },
    {
      "cell_type": "code",
      "source": [
        "pip install matplotlib"
      ],
      "metadata": {
        "colab": {
          "base_uri": "https://localhost:8080/",
          "height": 0
        },
        "id": "jpf6NAm6iwsT",
        "outputId": "d630f713-980a-4d50-9455-fd10a5ef6428"
      },
      "execution_count": 8,
      "outputs": [
        {
          "output_type": "stream",
          "name": "stdout",
          "text": [
            "Requirement already satisfied: matplotlib in /usr/local/lib/python3.7/dist-packages (3.2.2)\n",
            "Requirement already satisfied: kiwisolver>=1.0.1 in /usr/local/lib/python3.7/dist-packages (from matplotlib) (1.3.2)\n",
            "Requirement already satisfied: python-dateutil>=2.1 in /usr/local/lib/python3.7/dist-packages (from matplotlib) (2.8.2)\n",
            "Requirement already satisfied: pyparsing!=2.0.4,!=2.1.2,!=2.1.6,>=2.0.1 in /usr/local/lib/python3.7/dist-packages (from matplotlib) (3.0.7)\n",
            "Requirement already satisfied: cycler>=0.10 in /usr/local/lib/python3.7/dist-packages (from matplotlib) (0.11.0)\n",
            "Requirement already satisfied: numpy>=1.11 in /usr/local/lib/python3.7/dist-packages (from matplotlib) (1.21.5)\n",
            "Requirement already satisfied: six>=1.5 in /usr/local/lib/python3.7/dist-packages (from python-dateutil>=2.1->matplotlib) (1.15.0)\n"
          ]
        }
      ]
    },
    {
      "cell_type": "code",
      "source": [
        "pip install sklearn"
      ],
      "metadata": {
        "colab": {
          "base_uri": "https://localhost:8080/",
          "height": 0
        },
        "id": "4rMENAY4ix3t",
        "outputId": "b31cb944-f457-4a65-eaa6-d722e08f3e36"
      },
      "execution_count": 9,
      "outputs": [
        {
          "output_type": "stream",
          "name": "stdout",
          "text": [
            "Requirement already satisfied: sklearn in /usr/local/lib/python3.7/dist-packages (0.0)\n",
            "Requirement already satisfied: scikit-learn in /usr/local/lib/python3.7/dist-packages (from sklearn) (1.0.2)\n",
            "Requirement already satisfied: scipy>=1.1.0 in /usr/local/lib/python3.7/dist-packages (from scikit-learn->sklearn) (1.4.1)\n",
            "Requirement already satisfied: threadpoolctl>=2.0.0 in /usr/local/lib/python3.7/dist-packages (from scikit-learn->sklearn) (3.1.0)\n",
            "Requirement already satisfied: joblib>=0.11 in /usr/local/lib/python3.7/dist-packages (from scikit-learn->sklearn) (1.1.0)\n",
            "Requirement already satisfied: numpy>=1.14.6 in /usr/local/lib/python3.7/dist-packages (from scikit-learn->sklearn) (1.21.5)\n"
          ]
        }
      ]
    },
    {
      "cell_type": "code",
      "source": [
        "pip install statsmodels"
      ],
      "metadata": {
        "colab": {
          "base_uri": "https://localhost:8080/",
          "height": 0
        },
        "id": "7g7VsbIFizAA",
        "outputId": "20117185-e163-4b42-bc3e-eb4c03d5fc71"
      },
      "execution_count": 10,
      "outputs": [
        {
          "output_type": "stream",
          "name": "stdout",
          "text": [
            "Requirement already satisfied: statsmodels in /usr/local/lib/python3.7/dist-packages (0.10.2)\n",
            "Requirement already satisfied: scipy>=0.18 in /usr/local/lib/python3.7/dist-packages (from statsmodels) (1.4.1)\n",
            "Requirement already satisfied: pandas>=0.19 in /usr/local/lib/python3.7/dist-packages (from statsmodels) (1.3.5)\n",
            "Requirement already satisfied: patsy>=0.4.0 in /usr/local/lib/python3.7/dist-packages (from statsmodels) (0.5.2)\n",
            "Requirement already satisfied: numpy>=1.11 in /usr/local/lib/python3.7/dist-packages (from statsmodels) (1.21.5)\n",
            "Requirement already satisfied: pytz>=2017.3 in /usr/local/lib/python3.7/dist-packages (from pandas>=0.19->statsmodels) (2018.9)\n",
            "Requirement already satisfied: python-dateutil>=2.7.3 in /usr/local/lib/python3.7/dist-packages (from pandas>=0.19->statsmodels) (2.8.2)\n",
            "Requirement already satisfied: six in /usr/local/lib/python3.7/dist-packages (from patsy>=0.4.0->statsmodels) (1.15.0)\n"
          ]
        }
      ]
    },
    {
      "cell_type": "code",
      "source": [
        "pip install plotly"
      ],
      "metadata": {
        "colab": {
          "base_uri": "https://localhost:8080/",
          "height": 0
        },
        "id": "36tf-xrPi0DB",
        "outputId": "d78a72ce-cdef-4ad9-8954-155f90b505cf"
      },
      "execution_count": 11,
      "outputs": [
        {
          "output_type": "stream",
          "name": "stdout",
          "text": [
            "Requirement already satisfied: plotly in /usr/local/lib/python3.7/dist-packages (5.5.0)\n",
            "Requirement already satisfied: six in /usr/local/lib/python3.7/dist-packages (from plotly) (1.15.0)\n",
            "Requirement already satisfied: tenacity>=6.2.0 in /usr/local/lib/python3.7/dist-packages (from plotly) (8.0.1)\n"
          ]
        }
      ]
    },
    {
      "cell_type": "markdown",
      "source": [
        "# Barbara Cantu A01177265"
      ],
      "metadata": {
        "id": "5Sm-HAIEQukO"
      }
    },
    {
      "cell_type": "code",
      "source": [
        "import numpy as np\n",
        "import pandas as pd\n",
        "import matplotlib.pyplot as plt\n",
        "import seaborn as sns\n",
        "from matplotlib.pyplot import figure\n",
        "import matplotlib as mpl\n",
        "from sklearn import linear_model\n",
        "import statsmodels.api as sm\n",
        "from matplotlib import rcParams"
      ],
      "metadata": {
        "id": "ot9fMBD1i6oR"
      },
      "execution_count": 19,
      "outputs": []
    },
    {
      "cell_type": "markdown",
      "source": [
        "# Spotify Top 50 Songs of 2020 Dataset\n",
        "\n",
        "\n",
        "*   This data set is about Spotify Music\n",
        "*   This data is provided by Kaggle\n",
        "*   This data set contains the top 50 tracks listened on spotify in 2020\n",
        "\n",
        "\n",
        "\n"
      ],
      "metadata": {
        "id": "_UPlIgsykd9v"
      }
    },
    {
      "cell_type": "code",
      "source": [
        "df = pd.read_csv('spotifytoptracks.csv')\n",
        "df.head()"
      ],
      "metadata": {
        "colab": {
          "base_uri": "https://localhost:8080/",
          "height": 406
        },
        "id": "-_3VW1Thi9fS",
        "outputId": "1e1a510f-f32a-4cd2-a72a-e48dd8dcbef4"
      },
      "execution_count": 14,
      "outputs": [
        {
          "output_type": "execute_result",
          "data": {
            "text/plain": [
              "   Unnamed: 0       artist                                  album  \\\n",
              "0           0   The Weeknd                            After Hours   \n",
              "1           1  Tones And I                           Dance Monkey   \n",
              "2           2  Roddy Ricch  Please Excuse Me For Being Antisocial   \n",
              "3           3    SAINt JHN                  Roses (Imanbek Remix)   \n",
              "4           4     Dua Lipa                       Future Nostalgia   \n",
              "\n",
              "              track_name                track_id  energy  danceability  key  \\\n",
              "0        Blinding Lights  0VjIjW4GlUZAMYd2vXMi3b   0.730         0.514    1   \n",
              "1           Dance Monkey  1rgnBhdG2JDFTbYkYRZAku   0.593         0.825    6   \n",
              "2                The Box  0nbXyq5TXYPCO7pr3N8S4I   0.586         0.896   10   \n",
              "3  Roses - Imanbek Remix  2Wo6QQD1KMDWeFkkjLqwx5   0.721         0.785    8   \n",
              "4        Don't Start Now  3PfIrDoz19wz7qK7tYeu62   0.793         0.793   11   \n",
              "\n",
              "   loudness  acousticness  speechiness  instrumentalness  liveness  valence  \\\n",
              "0    -5.934       0.00146       0.0598          0.000095    0.0897    0.334   \n",
              "1    -6.401       0.68800       0.0988          0.000161    0.1700    0.540   \n",
              "2    -6.687       0.10400       0.0559          0.000000    0.7900    0.642   \n",
              "3    -5.457       0.01490       0.0506          0.004320    0.2850    0.894   \n",
              "4    -4.521       0.01230       0.0830          0.000000    0.0951    0.679   \n",
              "\n",
              "     tempo  duration_ms              genre  \n",
              "0  171.005       200040           R&B/Soul  \n",
              "1   98.078       209755  Alternative/Indie  \n",
              "2  116.971       196653        Hip-Hop/Rap  \n",
              "3  121.962       176219   Dance/Electronic  \n",
              "4  123.950       183290           Nu-disco  "
            ],
            "text/html": [
              "\n",
              "  <div id=\"df-50397c59-89bc-40c4-b4d1-d7725b74f32b\">\n",
              "    <div class=\"colab-df-container\">\n",
              "      <div>\n",
              "<style scoped>\n",
              "    .dataframe tbody tr th:only-of-type {\n",
              "        vertical-align: middle;\n",
              "    }\n",
              "\n",
              "    .dataframe tbody tr th {\n",
              "        vertical-align: top;\n",
              "    }\n",
              "\n",
              "    .dataframe thead th {\n",
              "        text-align: right;\n",
              "    }\n",
              "</style>\n",
              "<table border=\"1\" class=\"dataframe\">\n",
              "  <thead>\n",
              "    <tr style=\"text-align: right;\">\n",
              "      <th></th>\n",
              "      <th>Unnamed: 0</th>\n",
              "      <th>artist</th>\n",
              "      <th>album</th>\n",
              "      <th>track_name</th>\n",
              "      <th>track_id</th>\n",
              "      <th>energy</th>\n",
              "      <th>danceability</th>\n",
              "      <th>key</th>\n",
              "      <th>loudness</th>\n",
              "      <th>acousticness</th>\n",
              "      <th>speechiness</th>\n",
              "      <th>instrumentalness</th>\n",
              "      <th>liveness</th>\n",
              "      <th>valence</th>\n",
              "      <th>tempo</th>\n",
              "      <th>duration_ms</th>\n",
              "      <th>genre</th>\n",
              "    </tr>\n",
              "  </thead>\n",
              "  <tbody>\n",
              "    <tr>\n",
              "      <th>0</th>\n",
              "      <td>0</td>\n",
              "      <td>The Weeknd</td>\n",
              "      <td>After Hours</td>\n",
              "      <td>Blinding Lights</td>\n",
              "      <td>0VjIjW4GlUZAMYd2vXMi3b</td>\n",
              "      <td>0.730</td>\n",
              "      <td>0.514</td>\n",
              "      <td>1</td>\n",
              "      <td>-5.934</td>\n",
              "      <td>0.00146</td>\n",
              "      <td>0.0598</td>\n",
              "      <td>0.000095</td>\n",
              "      <td>0.0897</td>\n",
              "      <td>0.334</td>\n",
              "      <td>171.005</td>\n",
              "      <td>200040</td>\n",
              "      <td>R&amp;B/Soul</td>\n",
              "    </tr>\n",
              "    <tr>\n",
              "      <th>1</th>\n",
              "      <td>1</td>\n",
              "      <td>Tones And I</td>\n",
              "      <td>Dance Monkey</td>\n",
              "      <td>Dance Monkey</td>\n",
              "      <td>1rgnBhdG2JDFTbYkYRZAku</td>\n",
              "      <td>0.593</td>\n",
              "      <td>0.825</td>\n",
              "      <td>6</td>\n",
              "      <td>-6.401</td>\n",
              "      <td>0.68800</td>\n",
              "      <td>0.0988</td>\n",
              "      <td>0.000161</td>\n",
              "      <td>0.1700</td>\n",
              "      <td>0.540</td>\n",
              "      <td>98.078</td>\n",
              "      <td>209755</td>\n",
              "      <td>Alternative/Indie</td>\n",
              "    </tr>\n",
              "    <tr>\n",
              "      <th>2</th>\n",
              "      <td>2</td>\n",
              "      <td>Roddy Ricch</td>\n",
              "      <td>Please Excuse Me For Being Antisocial</td>\n",
              "      <td>The Box</td>\n",
              "      <td>0nbXyq5TXYPCO7pr3N8S4I</td>\n",
              "      <td>0.586</td>\n",
              "      <td>0.896</td>\n",
              "      <td>10</td>\n",
              "      <td>-6.687</td>\n",
              "      <td>0.10400</td>\n",
              "      <td>0.0559</td>\n",
              "      <td>0.000000</td>\n",
              "      <td>0.7900</td>\n",
              "      <td>0.642</td>\n",
              "      <td>116.971</td>\n",
              "      <td>196653</td>\n",
              "      <td>Hip-Hop/Rap</td>\n",
              "    </tr>\n",
              "    <tr>\n",
              "      <th>3</th>\n",
              "      <td>3</td>\n",
              "      <td>SAINt JHN</td>\n",
              "      <td>Roses (Imanbek Remix)</td>\n",
              "      <td>Roses - Imanbek Remix</td>\n",
              "      <td>2Wo6QQD1KMDWeFkkjLqwx5</td>\n",
              "      <td>0.721</td>\n",
              "      <td>0.785</td>\n",
              "      <td>8</td>\n",
              "      <td>-5.457</td>\n",
              "      <td>0.01490</td>\n",
              "      <td>0.0506</td>\n",
              "      <td>0.004320</td>\n",
              "      <td>0.2850</td>\n",
              "      <td>0.894</td>\n",
              "      <td>121.962</td>\n",
              "      <td>176219</td>\n",
              "      <td>Dance/Electronic</td>\n",
              "    </tr>\n",
              "    <tr>\n",
              "      <th>4</th>\n",
              "      <td>4</td>\n",
              "      <td>Dua Lipa</td>\n",
              "      <td>Future Nostalgia</td>\n",
              "      <td>Don't Start Now</td>\n",
              "      <td>3PfIrDoz19wz7qK7tYeu62</td>\n",
              "      <td>0.793</td>\n",
              "      <td>0.793</td>\n",
              "      <td>11</td>\n",
              "      <td>-4.521</td>\n",
              "      <td>0.01230</td>\n",
              "      <td>0.0830</td>\n",
              "      <td>0.000000</td>\n",
              "      <td>0.0951</td>\n",
              "      <td>0.679</td>\n",
              "      <td>123.950</td>\n",
              "      <td>183290</td>\n",
              "      <td>Nu-disco</td>\n",
              "    </tr>\n",
              "  </tbody>\n",
              "</table>\n",
              "</div>\n",
              "      <button class=\"colab-df-convert\" onclick=\"convertToInteractive('df-50397c59-89bc-40c4-b4d1-d7725b74f32b')\"\n",
              "              title=\"Convert this dataframe to an interactive table.\"\n",
              "              style=\"display:none;\">\n",
              "        \n",
              "  <svg xmlns=\"http://www.w3.org/2000/svg\" height=\"24px\"viewBox=\"0 0 24 24\"\n",
              "       width=\"24px\">\n",
              "    <path d=\"M0 0h24v24H0V0z\" fill=\"none\"/>\n",
              "    <path d=\"M18.56 5.44l.94 2.06.94-2.06 2.06-.94-2.06-.94-.94-2.06-.94 2.06-2.06.94zm-11 1L8.5 8.5l.94-2.06 2.06-.94-2.06-.94L8.5 2.5l-.94 2.06-2.06.94zm10 10l.94 2.06.94-2.06 2.06-.94-2.06-.94-.94-2.06-.94 2.06-2.06.94z\"/><path d=\"M17.41 7.96l-1.37-1.37c-.4-.4-.92-.59-1.43-.59-.52 0-1.04.2-1.43.59L10.3 9.45l-7.72 7.72c-.78.78-.78 2.05 0 2.83L4 21.41c.39.39.9.59 1.41.59.51 0 1.02-.2 1.41-.59l7.78-7.78 2.81-2.81c.8-.78.8-2.07 0-2.86zM5.41 20L4 18.59l7.72-7.72 1.47 1.35L5.41 20z\"/>\n",
              "  </svg>\n",
              "      </button>\n",
              "      \n",
              "  <style>\n",
              "    .colab-df-container {\n",
              "      display:flex;\n",
              "      flex-wrap:wrap;\n",
              "      gap: 12px;\n",
              "    }\n",
              "\n",
              "    .colab-df-convert {\n",
              "      background-color: #E8F0FE;\n",
              "      border: none;\n",
              "      border-radius: 50%;\n",
              "      cursor: pointer;\n",
              "      display: none;\n",
              "      fill: #1967D2;\n",
              "      height: 32px;\n",
              "      padding: 0 0 0 0;\n",
              "      width: 32px;\n",
              "    }\n",
              "\n",
              "    .colab-df-convert:hover {\n",
              "      background-color: #E2EBFA;\n",
              "      box-shadow: 0px 1px 2px rgba(60, 64, 67, 0.3), 0px 1px 3px 1px rgba(60, 64, 67, 0.15);\n",
              "      fill: #174EA6;\n",
              "    }\n",
              "\n",
              "    [theme=dark] .colab-df-convert {\n",
              "      background-color: #3B4455;\n",
              "      fill: #D2E3FC;\n",
              "    }\n",
              "\n",
              "    [theme=dark] .colab-df-convert:hover {\n",
              "      background-color: #434B5C;\n",
              "      box-shadow: 0px 1px 3px 1px rgba(0, 0, 0, 0.15);\n",
              "      filter: drop-shadow(0px 1px 2px rgba(0, 0, 0, 0.3));\n",
              "      fill: #FFFFFF;\n",
              "    }\n",
              "  </style>\n",
              "\n",
              "      <script>\n",
              "        const buttonEl =\n",
              "          document.querySelector('#df-50397c59-89bc-40c4-b4d1-d7725b74f32b button.colab-df-convert');\n",
              "        buttonEl.style.display =\n",
              "          google.colab.kernel.accessAllowed ? 'block' : 'none';\n",
              "\n",
              "        async function convertToInteractive(key) {\n",
              "          const element = document.querySelector('#df-50397c59-89bc-40c4-b4d1-d7725b74f32b');\n",
              "          const dataTable =\n",
              "            await google.colab.kernel.invokeFunction('convertToInteractive',\n",
              "                                                     [key], {});\n",
              "          if (!dataTable) return;\n",
              "\n",
              "          const docLinkHtml = 'Like what you see? Visit the ' +\n",
              "            '<a target=\"_blank\" href=https://colab.research.google.com/notebooks/data_table.ipynb>data table notebook</a>'\n",
              "            + ' to learn more about interactive tables.';\n",
              "          element.innerHTML = '';\n",
              "          dataTable['output_type'] = 'display_data';\n",
              "          await google.colab.output.renderOutput(dataTable, element);\n",
              "          const docLink = document.createElement('div');\n",
              "          docLink.innerHTML = docLinkHtml;\n",
              "          element.appendChild(docLink);\n",
              "        }\n",
              "      </script>\n",
              "    </div>\n",
              "  </div>\n",
              "  "
            ]
          },
          "metadata": {},
          "execution_count": 14
        }
      ]
    },
    {
      "cell_type": "markdown",
      "source": [
        "Erase variables that I don't consider important for my research, which were 'Track id' and an 'Unnamed' column. This way my database will be \"Clean\".\n"
      ],
      "metadata": {
        "id": "xbVlOlDPkyiS"
      }
    },
    {
      "cell_type": "code",
      "source": [
        "df.drop(['Unnamed: 0', 'track_id'],\n",
        "        axis = 1, \n",
        "        inplace = True\n",
        "       )"
      ],
      "metadata": {
        "id": "23eQZKzsjDLe"
      },
      "execution_count": 15,
      "outputs": []
    },
    {
      "cell_type": "markdown",
      "source": [
        "Conclusion --> usign axis = 1(0 for rows, 1 for columns), the columns that I didn't consider important were erased. "
      ],
      "metadata": {
        "id": "bIzZgW9ok1ug"
      }
    },
    {
      "cell_type": "markdown",
      "source": [
        "**Variables of interest:**\n",
        "* 'artist' --> The artist of the song, it is a categorical variable.\n",
        "* 'album' --> The album the song belongs to, is a variable category.\n",
        "* 'track_name' --> The name of the song, it is a categorical variable.\n",
        "* 'energy' --> The energy of the song, it is a numeric variable.\n",
        "* 'danceable' --> How danceable the song is, is a numeric variable.\n",
        "* 'acoustics'--> The acoustics of each song, is a numeric variable.\n",
        "* 'instrumentalness'--> Instrumentality of the song, is a numeric variable.\n",
        "* 'liveness' --> How alive the song is, it's a numeric variable.\n",
        "* 'tempo' --> The tempo of the song, it is a numeric variable.\n",
        "* 'duration_ms' --> The duration in milliseconds of each song, it is a numeric variable.\n",
        "* 'genre' --> The genre that belongs to each song, is a categorical variable."
      ],
      "metadata": {
        "id": "fWE6sWg7k4mU"
      }
    },
    {
      "cell_type": "markdown",
      "source": [
        " ## Danceability of each song by artist\n",
        "* Using a pivot table, it shows how danceable each song by each artist is, also, you can see if the artist has more than one song"
      ],
      "metadata": {
        "id": "kfolKkuDlb-7"
      }
    },
    {
      "cell_type": "code",
      "source": [
        "pd.pivot_table(df, \n",
        "               index = ['artist', 'track_name'],\n",
        "               values = ['danceability'],\n",
        "               margins = True,\n",
        "              )"
      ],
      "metadata": {
        "colab": {
          "base_uri": "https://localhost:8080/",
          "height": 1679
        },
        "id": "7ZGqve-ElgGg",
        "outputId": "7e83908c-6496-4194-bf55-262fe4f4f67b"
      },
      "execution_count": 16,
      "outputs": [
        {
          "output_type": "execute_result",
          "data": {
            "text/plain": [
              "                                                                danceability\n",
              "artist          track_name                                                  \n",
              "24kGoldn        Mood (feat. iann dior)                               0.70000\n",
              "Ariana Grande   Stuck with U (with Justin Bieber)                    0.59700\n",
              "Arizona Zervas  ROXANNE                                              0.62100\n",
              "BENEE           Supalonely (feat. Gus Dapperton)                     0.86200\n",
              "BTS             Dynamite                                             0.74600\n",
              "Bad Bunny       Safaera                                              0.60700\n",
              "Billie Eilish   bad guy                                              0.70100\n",
              "                everything i wanted                                  0.70400\n",
              "                lovely (with Khalid)                                 0.35100\n",
              "Black Eyed Peas RITMO (Bad Boys For Life)                            0.72300\n",
              "Cardi B         WAP (feat. Megan Thee Stallion)                      0.93500\n",
              "DaBaby          ROCKSTAR (feat. Roddy Ricch)                         0.74600\n",
              "Doja Cat        Say So                                               0.78700\n",
              "Drake           Toosie Slide                                         0.83000\n",
              "Dua Lipa        Break My Heart                                       0.73000\n",
              "                Don't Start Now                                      0.79300\n",
              "                Physical                                             0.64700\n",
              "Eminem          Godzilla (feat. Juice WRLD)                          0.80800\n",
              "Future          Life Is Good (feat. Drake)                           0.79500\n",
              "Harry Styles    Adore You                                            0.67600\n",
              "                Watermelon Sugar                                     0.54800\n",
              "JP Saxe         If the World Was Ending - feat. Julia Michaels       0.46400\n",
              "Jawsh 685       Savage Love (Laxed - Siren Beat)                     0.76700\n",
              "Juice WRLD      Lucid Dreams                                         0.51100\n",
              "Justin Bieber   Intentions (feat. Quavo)                             0.80600\n",
              "                Yummy                                                0.67600\n",
              "KAROL G         Tusa                                                 0.80300\n",
              "Lady Gaga       Rain On Me (with Ariana Grande)                      0.67200\n",
              "Lewis Capaldi   Before You Go                                        0.45900\n",
              "                Someone You Loved                                    0.50100\n",
              "Lil Mosey       Blueberry Faygo                                      0.77400\n",
              "Maluma          Hawái                                                0.78300\n",
              "Maroon 5        Memories                                             0.76400\n",
              "Post Malone     Circles                                              0.69500\n",
              "                Sunflower - Spider-Man: Into the Spider-Verse        0.75500\n",
              "Powfu           death bed (coffee for your head)                     0.72600\n",
              "Regard          Ride It                                              0.88000\n",
              "Roddy Ricch     The Box                                              0.89600\n",
              "SAINt JHN       Roses - Imanbek Remix                                0.78500\n",
              "Shawn Mendes    Señorita                                             0.75900\n",
              "Surf Mesa       ily (i love you baby) (feat. Emilee)                 0.67400\n",
              "Surfaces        Sunday Best                                          0.87800\n",
              "THE SCOTTS      THE SCOTTS                                           0.71600\n",
              "The Weeknd      Blinding Lights                                      0.51400\n",
              "Tones And I     Dance Monkey                                         0.82500\n",
              "Topic           Breaking Me                                          0.78900\n",
              "Travis Scott    HIGHEST IN THE ROOM                                  0.59800\n",
              "                SICKO MODE                                           0.83400\n",
              "                goosebumps                                           0.84100\n",
              "Trevor Daniel   Falling                                              0.78400\n",
              "All                                                                  0.71672"
            ],
            "text/html": [
              "\n",
              "  <div id=\"df-ac256f30-b8ce-46f5-b3df-dda554b670ca\">\n",
              "    <div class=\"colab-df-container\">\n",
              "      <div>\n",
              "<style scoped>\n",
              "    .dataframe tbody tr th:only-of-type {\n",
              "        vertical-align: middle;\n",
              "    }\n",
              "\n",
              "    .dataframe tbody tr th {\n",
              "        vertical-align: top;\n",
              "    }\n",
              "\n",
              "    .dataframe thead th {\n",
              "        text-align: right;\n",
              "    }\n",
              "</style>\n",
              "<table border=\"1\" class=\"dataframe\">\n",
              "  <thead>\n",
              "    <tr style=\"text-align: right;\">\n",
              "      <th></th>\n",
              "      <th></th>\n",
              "      <th>danceability</th>\n",
              "    </tr>\n",
              "    <tr>\n",
              "      <th>artist</th>\n",
              "      <th>track_name</th>\n",
              "      <th></th>\n",
              "    </tr>\n",
              "  </thead>\n",
              "  <tbody>\n",
              "    <tr>\n",
              "      <th>24kGoldn</th>\n",
              "      <th>Mood (feat. iann dior)</th>\n",
              "      <td>0.70000</td>\n",
              "    </tr>\n",
              "    <tr>\n",
              "      <th>Ariana Grande</th>\n",
              "      <th>Stuck with U (with Justin Bieber)</th>\n",
              "      <td>0.59700</td>\n",
              "    </tr>\n",
              "    <tr>\n",
              "      <th>Arizona Zervas</th>\n",
              "      <th>ROXANNE</th>\n",
              "      <td>0.62100</td>\n",
              "    </tr>\n",
              "    <tr>\n",
              "      <th>BENEE</th>\n",
              "      <th>Supalonely (feat. Gus Dapperton)</th>\n",
              "      <td>0.86200</td>\n",
              "    </tr>\n",
              "    <tr>\n",
              "      <th>BTS</th>\n",
              "      <th>Dynamite</th>\n",
              "      <td>0.74600</td>\n",
              "    </tr>\n",
              "    <tr>\n",
              "      <th>Bad Bunny</th>\n",
              "      <th>Safaera</th>\n",
              "      <td>0.60700</td>\n",
              "    </tr>\n",
              "    <tr>\n",
              "      <th rowspan=\"3\" valign=\"top\">Billie Eilish</th>\n",
              "      <th>bad guy</th>\n",
              "      <td>0.70100</td>\n",
              "    </tr>\n",
              "    <tr>\n",
              "      <th>everything i wanted</th>\n",
              "      <td>0.70400</td>\n",
              "    </tr>\n",
              "    <tr>\n",
              "      <th>lovely (with Khalid)</th>\n",
              "      <td>0.35100</td>\n",
              "    </tr>\n",
              "    <tr>\n",
              "      <th>Black Eyed Peas</th>\n",
              "      <th>RITMO (Bad Boys For Life)</th>\n",
              "      <td>0.72300</td>\n",
              "    </tr>\n",
              "    <tr>\n",
              "      <th>Cardi B</th>\n",
              "      <th>WAP (feat. Megan Thee Stallion)</th>\n",
              "      <td>0.93500</td>\n",
              "    </tr>\n",
              "    <tr>\n",
              "      <th>DaBaby</th>\n",
              "      <th>ROCKSTAR (feat. Roddy Ricch)</th>\n",
              "      <td>0.74600</td>\n",
              "    </tr>\n",
              "    <tr>\n",
              "      <th>Doja Cat</th>\n",
              "      <th>Say So</th>\n",
              "      <td>0.78700</td>\n",
              "    </tr>\n",
              "    <tr>\n",
              "      <th>Drake</th>\n",
              "      <th>Toosie Slide</th>\n",
              "      <td>0.83000</td>\n",
              "    </tr>\n",
              "    <tr>\n",
              "      <th rowspan=\"3\" valign=\"top\">Dua Lipa</th>\n",
              "      <th>Break My Heart</th>\n",
              "      <td>0.73000</td>\n",
              "    </tr>\n",
              "    <tr>\n",
              "      <th>Don't Start Now</th>\n",
              "      <td>0.79300</td>\n",
              "    </tr>\n",
              "    <tr>\n",
              "      <th>Physical</th>\n",
              "      <td>0.64700</td>\n",
              "    </tr>\n",
              "    <tr>\n",
              "      <th>Eminem</th>\n",
              "      <th>Godzilla (feat. Juice WRLD)</th>\n",
              "      <td>0.80800</td>\n",
              "    </tr>\n",
              "    <tr>\n",
              "      <th>Future</th>\n",
              "      <th>Life Is Good (feat. Drake)</th>\n",
              "      <td>0.79500</td>\n",
              "    </tr>\n",
              "    <tr>\n",
              "      <th rowspan=\"2\" valign=\"top\">Harry Styles</th>\n",
              "      <th>Adore You</th>\n",
              "      <td>0.67600</td>\n",
              "    </tr>\n",
              "    <tr>\n",
              "      <th>Watermelon Sugar</th>\n",
              "      <td>0.54800</td>\n",
              "    </tr>\n",
              "    <tr>\n",
              "      <th>JP Saxe</th>\n",
              "      <th>If the World Was Ending - feat. Julia Michaels</th>\n",
              "      <td>0.46400</td>\n",
              "    </tr>\n",
              "    <tr>\n",
              "      <th>Jawsh 685</th>\n",
              "      <th>Savage Love (Laxed - Siren Beat)</th>\n",
              "      <td>0.76700</td>\n",
              "    </tr>\n",
              "    <tr>\n",
              "      <th>Juice WRLD</th>\n",
              "      <th>Lucid Dreams</th>\n",
              "      <td>0.51100</td>\n",
              "    </tr>\n",
              "    <tr>\n",
              "      <th rowspan=\"2\" valign=\"top\">Justin Bieber</th>\n",
              "      <th>Intentions (feat. Quavo)</th>\n",
              "      <td>0.80600</td>\n",
              "    </tr>\n",
              "    <tr>\n",
              "      <th>Yummy</th>\n",
              "      <td>0.67600</td>\n",
              "    </tr>\n",
              "    <tr>\n",
              "      <th>KAROL G</th>\n",
              "      <th>Tusa</th>\n",
              "      <td>0.80300</td>\n",
              "    </tr>\n",
              "    <tr>\n",
              "      <th>Lady Gaga</th>\n",
              "      <th>Rain On Me (with Ariana Grande)</th>\n",
              "      <td>0.67200</td>\n",
              "    </tr>\n",
              "    <tr>\n",
              "      <th rowspan=\"2\" valign=\"top\">Lewis Capaldi</th>\n",
              "      <th>Before You Go</th>\n",
              "      <td>0.45900</td>\n",
              "    </tr>\n",
              "    <tr>\n",
              "      <th>Someone You Loved</th>\n",
              "      <td>0.50100</td>\n",
              "    </tr>\n",
              "    <tr>\n",
              "      <th>Lil Mosey</th>\n",
              "      <th>Blueberry Faygo</th>\n",
              "      <td>0.77400</td>\n",
              "    </tr>\n",
              "    <tr>\n",
              "      <th>Maluma</th>\n",
              "      <th>Hawái</th>\n",
              "      <td>0.78300</td>\n",
              "    </tr>\n",
              "    <tr>\n",
              "      <th>Maroon 5</th>\n",
              "      <th>Memories</th>\n",
              "      <td>0.76400</td>\n",
              "    </tr>\n",
              "    <tr>\n",
              "      <th rowspan=\"2\" valign=\"top\">Post Malone</th>\n",
              "      <th>Circles</th>\n",
              "      <td>0.69500</td>\n",
              "    </tr>\n",
              "    <tr>\n",
              "      <th>Sunflower - Spider-Man: Into the Spider-Verse</th>\n",
              "      <td>0.75500</td>\n",
              "    </tr>\n",
              "    <tr>\n",
              "      <th>Powfu</th>\n",
              "      <th>death bed (coffee for your head)</th>\n",
              "      <td>0.72600</td>\n",
              "    </tr>\n",
              "    <tr>\n",
              "      <th>Regard</th>\n",
              "      <th>Ride It</th>\n",
              "      <td>0.88000</td>\n",
              "    </tr>\n",
              "    <tr>\n",
              "      <th>Roddy Ricch</th>\n",
              "      <th>The Box</th>\n",
              "      <td>0.89600</td>\n",
              "    </tr>\n",
              "    <tr>\n",
              "      <th>SAINt JHN</th>\n",
              "      <th>Roses - Imanbek Remix</th>\n",
              "      <td>0.78500</td>\n",
              "    </tr>\n",
              "    <tr>\n",
              "      <th>Shawn Mendes</th>\n",
              "      <th>Señorita</th>\n",
              "      <td>0.75900</td>\n",
              "    </tr>\n",
              "    <tr>\n",
              "      <th>Surf Mesa</th>\n",
              "      <th>ily (i love you baby) (feat. Emilee)</th>\n",
              "      <td>0.67400</td>\n",
              "    </tr>\n",
              "    <tr>\n",
              "      <th>Surfaces</th>\n",
              "      <th>Sunday Best</th>\n",
              "      <td>0.87800</td>\n",
              "    </tr>\n",
              "    <tr>\n",
              "      <th>THE SCOTTS</th>\n",
              "      <th>THE SCOTTS</th>\n",
              "      <td>0.71600</td>\n",
              "    </tr>\n",
              "    <tr>\n",
              "      <th>The Weeknd</th>\n",
              "      <th>Blinding Lights</th>\n",
              "      <td>0.51400</td>\n",
              "    </tr>\n",
              "    <tr>\n",
              "      <th>Tones And I</th>\n",
              "      <th>Dance Monkey</th>\n",
              "      <td>0.82500</td>\n",
              "    </tr>\n",
              "    <tr>\n",
              "      <th>Topic</th>\n",
              "      <th>Breaking Me</th>\n",
              "      <td>0.78900</td>\n",
              "    </tr>\n",
              "    <tr>\n",
              "      <th rowspan=\"3\" valign=\"top\">Travis Scott</th>\n",
              "      <th>HIGHEST IN THE ROOM</th>\n",
              "      <td>0.59800</td>\n",
              "    </tr>\n",
              "    <tr>\n",
              "      <th>SICKO MODE</th>\n",
              "      <td>0.83400</td>\n",
              "    </tr>\n",
              "    <tr>\n",
              "      <th>goosebumps</th>\n",
              "      <td>0.84100</td>\n",
              "    </tr>\n",
              "    <tr>\n",
              "      <th>Trevor Daniel</th>\n",
              "      <th>Falling</th>\n",
              "      <td>0.78400</td>\n",
              "    </tr>\n",
              "    <tr>\n",
              "      <th>All</th>\n",
              "      <th></th>\n",
              "      <td>0.71672</td>\n",
              "    </tr>\n",
              "  </tbody>\n",
              "</table>\n",
              "</div>\n",
              "      <button class=\"colab-df-convert\" onclick=\"convertToInteractive('df-ac256f30-b8ce-46f5-b3df-dda554b670ca')\"\n",
              "              title=\"Convert this dataframe to an interactive table.\"\n",
              "              style=\"display:none;\">\n",
              "        \n",
              "  <svg xmlns=\"http://www.w3.org/2000/svg\" height=\"24px\"viewBox=\"0 0 24 24\"\n",
              "       width=\"24px\">\n",
              "    <path d=\"M0 0h24v24H0V0z\" fill=\"none\"/>\n",
              "    <path d=\"M18.56 5.44l.94 2.06.94-2.06 2.06-.94-2.06-.94-.94-2.06-.94 2.06-2.06.94zm-11 1L8.5 8.5l.94-2.06 2.06-.94-2.06-.94L8.5 2.5l-.94 2.06-2.06.94zm10 10l.94 2.06.94-2.06 2.06-.94-2.06-.94-.94-2.06-.94 2.06-2.06.94z\"/><path d=\"M17.41 7.96l-1.37-1.37c-.4-.4-.92-.59-1.43-.59-.52 0-1.04.2-1.43.59L10.3 9.45l-7.72 7.72c-.78.78-.78 2.05 0 2.83L4 21.41c.39.39.9.59 1.41.59.51 0 1.02-.2 1.41-.59l7.78-7.78 2.81-2.81c.8-.78.8-2.07 0-2.86zM5.41 20L4 18.59l7.72-7.72 1.47 1.35L5.41 20z\"/>\n",
              "  </svg>\n",
              "      </button>\n",
              "      \n",
              "  <style>\n",
              "    .colab-df-container {\n",
              "      display:flex;\n",
              "      flex-wrap:wrap;\n",
              "      gap: 12px;\n",
              "    }\n",
              "\n",
              "    .colab-df-convert {\n",
              "      background-color: #E8F0FE;\n",
              "      border: none;\n",
              "      border-radius: 50%;\n",
              "      cursor: pointer;\n",
              "      display: none;\n",
              "      fill: #1967D2;\n",
              "      height: 32px;\n",
              "      padding: 0 0 0 0;\n",
              "      width: 32px;\n",
              "    }\n",
              "\n",
              "    .colab-df-convert:hover {\n",
              "      background-color: #E2EBFA;\n",
              "      box-shadow: 0px 1px 2px rgba(60, 64, 67, 0.3), 0px 1px 3px 1px rgba(60, 64, 67, 0.15);\n",
              "      fill: #174EA6;\n",
              "    }\n",
              "\n",
              "    [theme=dark] .colab-df-convert {\n",
              "      background-color: #3B4455;\n",
              "      fill: #D2E3FC;\n",
              "    }\n",
              "\n",
              "    [theme=dark] .colab-df-convert:hover {\n",
              "      background-color: #434B5C;\n",
              "      box-shadow: 0px 1px 3px 1px rgba(0, 0, 0, 0.15);\n",
              "      filter: drop-shadow(0px 1px 2px rgba(0, 0, 0, 0.3));\n",
              "      fill: #FFFFFF;\n",
              "    }\n",
              "  </style>\n",
              "\n",
              "      <script>\n",
              "        const buttonEl =\n",
              "          document.querySelector('#df-ac256f30-b8ce-46f5-b3df-dda554b670ca button.colab-df-convert');\n",
              "        buttonEl.style.display =\n",
              "          google.colab.kernel.accessAllowed ? 'block' : 'none';\n",
              "\n",
              "        async function convertToInteractive(key) {\n",
              "          const element = document.querySelector('#df-ac256f30-b8ce-46f5-b3df-dda554b670ca');\n",
              "          const dataTable =\n",
              "            await google.colab.kernel.invokeFunction('convertToInteractive',\n",
              "                                                     [key], {});\n",
              "          if (!dataTable) return;\n",
              "\n",
              "          const docLinkHtml = 'Like what you see? Visit the ' +\n",
              "            '<a target=\"_blank\" href=https://colab.research.google.com/notebooks/data_table.ipynb>data table notebook</a>'\n",
              "            + ' to learn more about interactive tables.';\n",
              "          element.innerHTML = '';\n",
              "          dataTable['output_type'] = 'display_data';\n",
              "          await google.colab.output.renderOutput(dataTable, element);\n",
              "          const docLink = document.createElement('div');\n",
              "          docLink.innerHTML = docLinkHtml;\n",
              "          element.appendChild(docLink);\n",
              "        }\n",
              "      </script>\n",
              "    </div>\n",
              "  </div>\n",
              "  "
            ]
          },
          "metadata": {},
          "execution_count": 16
        }
      ]
    },
    {
      "cell_type": "markdown",
      "source": [
        "#### In conclusion the songs have a danceability of 0.71672 on average."
      ],
      "metadata": {
        "id": "7kTxTYIrlkVI"
      }
    },
    {
      "cell_type": "markdown",
      "source": [
        "## What were the top 3 songs listened to in 2020?"
      ],
      "metadata": {
        "id": "UDnD_XValnXc"
      }
    },
    {
      "cell_type": "code",
      "source": [
        "top3 = df.iloc[:3, 2:3]\n",
        "top3"
      ],
      "metadata": {
        "colab": {
          "base_uri": "https://localhost:8080/",
          "height": 143
        },
        "id": "ZCkuV_0tlp0A",
        "outputId": "d92ba384-1538-4a85-e317-3f9c29f01ca3"
      },
      "execution_count": 17,
      "outputs": [
        {
          "output_type": "execute_result",
          "data": {
            "text/plain": [
              "        track_name\n",
              "0  Blinding Lights\n",
              "1     Dance Monkey\n",
              "2          The Box"
            ],
            "text/html": [
              "\n",
              "  <div id=\"df-27dc2860-8d0e-4540-8682-27243036554d\">\n",
              "    <div class=\"colab-df-container\">\n",
              "      <div>\n",
              "<style scoped>\n",
              "    .dataframe tbody tr th:only-of-type {\n",
              "        vertical-align: middle;\n",
              "    }\n",
              "\n",
              "    .dataframe tbody tr th {\n",
              "        vertical-align: top;\n",
              "    }\n",
              "\n",
              "    .dataframe thead th {\n",
              "        text-align: right;\n",
              "    }\n",
              "</style>\n",
              "<table border=\"1\" class=\"dataframe\">\n",
              "  <thead>\n",
              "    <tr style=\"text-align: right;\">\n",
              "      <th></th>\n",
              "      <th>track_name</th>\n",
              "    </tr>\n",
              "  </thead>\n",
              "  <tbody>\n",
              "    <tr>\n",
              "      <th>0</th>\n",
              "      <td>Blinding Lights</td>\n",
              "    </tr>\n",
              "    <tr>\n",
              "      <th>1</th>\n",
              "      <td>Dance Monkey</td>\n",
              "    </tr>\n",
              "    <tr>\n",
              "      <th>2</th>\n",
              "      <td>The Box</td>\n",
              "    </tr>\n",
              "  </tbody>\n",
              "</table>\n",
              "</div>\n",
              "      <button class=\"colab-df-convert\" onclick=\"convertToInteractive('df-27dc2860-8d0e-4540-8682-27243036554d')\"\n",
              "              title=\"Convert this dataframe to an interactive table.\"\n",
              "              style=\"display:none;\">\n",
              "        \n",
              "  <svg xmlns=\"http://www.w3.org/2000/svg\" height=\"24px\"viewBox=\"0 0 24 24\"\n",
              "       width=\"24px\">\n",
              "    <path d=\"M0 0h24v24H0V0z\" fill=\"none\"/>\n",
              "    <path d=\"M18.56 5.44l.94 2.06.94-2.06 2.06-.94-2.06-.94-.94-2.06-.94 2.06-2.06.94zm-11 1L8.5 8.5l.94-2.06 2.06-.94-2.06-.94L8.5 2.5l-.94 2.06-2.06.94zm10 10l.94 2.06.94-2.06 2.06-.94-2.06-.94-.94-2.06-.94 2.06-2.06.94z\"/><path d=\"M17.41 7.96l-1.37-1.37c-.4-.4-.92-.59-1.43-.59-.52 0-1.04.2-1.43.59L10.3 9.45l-7.72 7.72c-.78.78-.78 2.05 0 2.83L4 21.41c.39.39.9.59 1.41.59.51 0 1.02-.2 1.41-.59l7.78-7.78 2.81-2.81c.8-.78.8-2.07 0-2.86zM5.41 20L4 18.59l7.72-7.72 1.47 1.35L5.41 20z\"/>\n",
              "  </svg>\n",
              "      </button>\n",
              "      \n",
              "  <style>\n",
              "    .colab-df-container {\n",
              "      display:flex;\n",
              "      flex-wrap:wrap;\n",
              "      gap: 12px;\n",
              "    }\n",
              "\n",
              "    .colab-df-convert {\n",
              "      background-color: #E8F0FE;\n",
              "      border: none;\n",
              "      border-radius: 50%;\n",
              "      cursor: pointer;\n",
              "      display: none;\n",
              "      fill: #1967D2;\n",
              "      height: 32px;\n",
              "      padding: 0 0 0 0;\n",
              "      width: 32px;\n",
              "    }\n",
              "\n",
              "    .colab-df-convert:hover {\n",
              "      background-color: #E2EBFA;\n",
              "      box-shadow: 0px 1px 2px rgba(60, 64, 67, 0.3), 0px 1px 3px 1px rgba(60, 64, 67, 0.15);\n",
              "      fill: #174EA6;\n",
              "    }\n",
              "\n",
              "    [theme=dark] .colab-df-convert {\n",
              "      background-color: #3B4455;\n",
              "      fill: #D2E3FC;\n",
              "    }\n",
              "\n",
              "    [theme=dark] .colab-df-convert:hover {\n",
              "      background-color: #434B5C;\n",
              "      box-shadow: 0px 1px 3px 1px rgba(0, 0, 0, 0.15);\n",
              "      filter: drop-shadow(0px 1px 2px rgba(0, 0, 0, 0.3));\n",
              "      fill: #FFFFFF;\n",
              "    }\n",
              "  </style>\n",
              "\n",
              "      <script>\n",
              "        const buttonEl =\n",
              "          document.querySelector('#df-27dc2860-8d0e-4540-8682-27243036554d button.colab-df-convert');\n",
              "        buttonEl.style.display =\n",
              "          google.colab.kernel.accessAllowed ? 'block' : 'none';\n",
              "\n",
              "        async function convertToInteractive(key) {\n",
              "          const element = document.querySelector('#df-27dc2860-8d0e-4540-8682-27243036554d');\n",
              "          const dataTable =\n",
              "            await google.colab.kernel.invokeFunction('convertToInteractive',\n",
              "                                                     [key], {});\n",
              "          if (!dataTable) return;\n",
              "\n",
              "          const docLinkHtml = 'Like what you see? Visit the ' +\n",
              "            '<a target=\"_blank\" href=https://colab.research.google.com/notebooks/data_table.ipynb>data table notebook</a>'\n",
              "            + ' to learn more about interactive tables.';\n",
              "          element.innerHTML = '';\n",
              "          dataTable['output_type'] = 'display_data';\n",
              "          await google.colab.output.renderOutput(dataTable, element);\n",
              "          const docLink = document.createElement('div');\n",
              "          docLink.innerHTML = docLinkHtml;\n",
              "          element.appendChild(docLink);\n",
              "        }\n",
              "      </script>\n",
              "    </div>\n",
              "  </div>\n",
              "  "
            ]
          },
          "metadata": {},
          "execution_count": 17
        }
      ]
    },
    {
      "cell_type": "markdown",
      "source": [
        "#### Conclusion --> Using the function iloc, it can be shown that the top 3 songs were: Blinding Lights, Dance Monkey and The Box, it only needed to know the rows from 0 to 3, and the name of the song."
      ],
      "metadata": {
        "id": "K19F201klvU7"
      }
    },
    {
      "cell_type": "markdown",
      "source": [
        "## Average energy of the songs \n",
        "* We want to visually see the energy of each song, so we will use a graph to display the data."
      ],
      "metadata": {
        "id": "S08eJPZCl0KT"
      }
    },
    {
      "cell_type": "code",
      "source": [
        "sns.swarmplot(x = 'track_name', \n",
        "             y = 'energy',\n",
        "             data = df\n",
        "            )\n",
        "#sns.set(rc={\"figure.figsize\":(13,10)})\n",
        "rcParams['figure.figsize'] = 11.7,8.27\n",
        "plt.xticks(rotation = 90, fontsize = 13)\n",
        "plt.yticks(rotation = 45, fontsize = 13)\n",
        "\n",
        "plt.show()\n"
      ],
      "metadata": {
        "colab": {
          "base_uri": "https://localhost:8080/",
          "height": 897
        },
        "id": "nvyySvxpl1gt",
        "outputId": "9dc999fb-88fd-4da9-9057-2bff6276b166"
      },
      "execution_count": 20,
      "outputs": [
        {
          "output_type": "display_data",
          "data": {
            "text/plain": [
              "<Figure size 936x720 with 1 Axes>"
            ],
            "image/png": "[encoded data removed]"
          },
          "metadata": {}
        }
      ]
    },
    {
      "cell_type": "markdown",
      "source": [
        "#### Conclusion --> Now you can see the spread of data of how the energy of each song changes."
      ],
      "metadata": {
        "id": "KQbO-yeVmHve"
      }
    },
    {
      "cell_type": "markdown",
      "source": [
        "## How many songs of the same artist were in the top 50?"
      ],
      "metadata": {
        "id": "Bxla_vsOmKLJ"
      }
    },
    {
      "cell_type": "code",
      "source": [
        "sns.countplot(x = 'artist', data = df)\n",
        "sns.set(rc={\"figure.figsize\":(13,10)})\n",
        "\n",
        "plt.xticks(rotation = 90, fontsize = 10)\n",
        "\n",
        "\n",
        "plt.show()"
      ],
      "metadata": {
        "colab": {
          "base_uri": "https://localhost:8080/",
          "height": 682
        },
        "id": "GoTtuMEImMZ9",
        "outputId": "15e300aa-08c0-4a04-ba6b-51d7df187e84"
      },
      "execution_count": null,
      "outputs": [
        {
          "output_type": "display_data",
          "data": {
            "text/plain": [
              "<Figure size 936x720 with 1 Axes>"
            ],
            "image/png": "[encoded data removed]"
          },
          "metadata": {}
        }
      ]
    },
    {
      "cell_type": "markdown",
      "source": [
        "#### Conclusion --> you can see that 'Dua Lipa', 'Billie Eilish' and 'Travis Scott' had 3 of their songs in the top 50 chart, while 'Harry Styles'. 'Lewis Capaldi', 'Post Malone' and 'Justin Bieber' had 2 of their songs on the list, and the rest just 1."
      ],
      "metadata": {
        "id": "rhcpicVYmQHk"
      }
    },
    {
      "cell_type": "markdown",
      "source": [
        "## \"Scatter Plot of Duration_ms vs. Danceability by Genre\"\n",
        "* We are wondering if there is a way to know if the duration of a song has an impact on the way it is danced, it is also categorized by the genre of the song."
      ],
      "metadata": {
        "id": "xH4jPB47mSc8"
      }
    },
    {
      "cell_type": "code",
      "source": [
        "new = sns.lmplot(x = 'duration_ms',\n",
        "           y = 'danceability',\n",
        "           data = df,\n",
        "           fit_reg = False,\n",
        "           hue = 'genre'\n",
        "          )\n",
        "sns.set(rc={'figure.figsize':(20,20)})\n",
        "#rcParams['figure.figsize'] = 20,15\n",
        "plt.title(\"Scatter Plot of Duration_ms vs. Danceability by Genre\", fontsize = 14)\n",
        "plt.xticks(rotation = 45, fontsize = 10)\n",
        "plt.show()"
      ],
      "metadata": {
        "colab": {
          "base_uri": "https://localhost:8080/",
          "height": 406
        },
        "id": "8t-wpit_mUI9",
        "outputId": "c2a29850-9f67-4439-a91d-e2415972fe47"
      },
      "execution_count": 60,
      "outputs": [
        {
          "output_type": "display_data",
          "data": {
            "text/plain": [
              "<Figure size 598.6x360 with 1 Axes>"
            ],
            "image/png": "[encoded data removed]"
          },
          "metadata": {}
        }
      ]
    },
    {
      "cell_type": "markdown",
      "source": [
        "#### Conclusion --> Apparently most of the songs have a short duration, compared to the last two points that shows that the longest song has a high danceability and is of the 'Dance/Electronic' genre."
      ],
      "metadata": {
        "id": "DPWHXKwzmYOK"
      }
    },
    {
      "cell_type": "markdown",
      "source": [
        "#### Im changing the index in order to be able to locate specific songs using the function 'loc' and graph the data."
      ],
      "metadata": {
        "id": "tP3eXht_mchF"
      }
    },
    {
      "cell_type": "code",
      "source": [
        "df.set_index('track_name', inplace = True)\n",
        "df.head(5)"
      ],
      "metadata": {
        "colab": {
          "base_uri": "https://localhost:8080/",
          "height": 458
        },
        "id": "YW2oNUzIj1pX",
        "outputId": "2c3b3c39-32c6-4a3e-8302-571e35d2edac"
      },
      "execution_count": null,
      "outputs": [
        {
          "output_type": "execute_result",
          "data": {
            "text/plain": [
              "                            artist                                  album  \\\n",
              "track_name                                                                  \n",
              "Blinding Lights         The Weeknd                            After Hours   \n",
              "Dance Monkey           Tones And I                           Dance Monkey   \n",
              "The Box                Roddy Ricch  Please Excuse Me For Being Antisocial   \n",
              "Roses - Imanbek Remix    SAINt JHN                  Roses (Imanbek Remix)   \n",
              "Don't Start Now           Dua Lipa                       Future Nostalgia   \n",
              "\n",
              "                       energy  danceability  key  loudness  acousticness  \\\n",
              "track_name                                                                 \n",
              "Blinding Lights         0.730         0.514    1    -5.934       0.00146   \n",
              "Dance Monkey            0.593         0.825    6    -6.401       0.68800   \n",
              "The Box                 0.586         0.896   10    -6.687       0.10400   \n",
              "Roses - Imanbek Remix   0.721         0.785    8    -5.457       0.01490   \n",
              "Don't Start Now         0.793         0.793   11    -4.521       0.01230   \n",
              "\n",
              "                       speechiness  instrumentalness  liveness  valence  \\\n",
              "track_name                                                                \n",
              "Blinding Lights             0.0598          0.000095    0.0897    0.334   \n",
              "Dance Monkey                0.0988          0.000161    0.1700    0.540   \n",
              "The Box                     0.0559          0.000000    0.7900    0.642   \n",
              "Roses - Imanbek Remix       0.0506          0.004320    0.2850    0.894   \n",
              "Don't Start Now             0.0830          0.000000    0.0951    0.679   \n",
              "\n",
              "                         tempo  duration_ms              genre  \n",
              "track_name                                                      \n",
              "Blinding Lights        171.005       200040           R&B/Soul  \n",
              "Dance Monkey            98.078       209755  Alternative/Indie  \n",
              "The Box                116.971       196653        Hip-Hop/Rap  \n",
              "Roses - Imanbek Remix  121.962       176219   Dance/Electronic  \n",
              "Don't Start Now        123.950       183290           Nu-disco  "
            ],
            "text/html": [
              "\n",
              "  <div id=\"df-0fc6bb0a-f3e2-4a72-b8b6-cb9a78950ab4\">\n",
              "    <div class=\"colab-df-container\">\n",
              "      <div>\n",
              "<style scoped>\n",
              "    .dataframe tbody tr th:only-of-type {\n",
              "        vertical-align: middle;\n",
              "    }\n",
              "\n",
              "    .dataframe tbody tr th {\n",
              "        vertical-align: top;\n",
              "    }\n",
              "\n",
              "    .dataframe thead th {\n",
              "        text-align: right;\n",
              "    }\n",
              "</style>\n",
              "<table border=\"1\" class=\"dataframe\">\n",
              "  <thead>\n",
              "    <tr style=\"text-align: right;\">\n",
              "      <th></th>\n",
              "      <th>artist</th>\n",
              "      <th>album</th>\n",
              "      <th>energy</th>\n",
              "      <th>danceability</th>\n",
              "      <th>key</th>\n",
              "      <th>loudness</th>\n",
              "      <th>acousticness</th>\n",
              "      <th>speechiness</th>\n",
              "      <th>instrumentalness</th>\n",
              "      <th>liveness</th>\n",
              "      <th>valence</th>\n",
              "      <th>tempo</th>\n",
              "      <th>duration_ms</th>\n",
              "      <th>genre</th>\n",
              "    </tr>\n",
              "    <tr>\n",
              "      <th>track_name</th>\n",
              "      <th></th>\n",
              "      <th></th>\n",
              "      <th></th>\n",
              "      <th></th>\n",
              "      <th></th>\n",
              "      <th></th>\n",
              "      <th></th>\n",
              "      <th></th>\n",
              "      <th></th>\n",
              "      <th></th>\n",
              "      <th></th>\n",
              "      <th></th>\n",
              "      <th></th>\n",
              "      <th></th>\n",
              "    </tr>\n",
              "  </thead>\n",
              "  <tbody>\n",
              "    <tr>\n",
              "      <th>Blinding Lights</th>\n",
              "      <td>The Weeknd</td>\n",
              "      <td>After Hours</td>\n",
              "      <td>0.730</td>\n",
              "      <td>0.514</td>\n",
              "      <td>1</td>\n",
              "      <td>-5.934</td>\n",
              "      <td>0.00146</td>\n",
              "      <td>0.0598</td>\n",
              "      <td>0.000095</td>\n",
              "      <td>0.0897</td>\n",
              "      <td>0.334</td>\n",
              "      <td>171.005</td>\n",
              "      <td>200040</td>\n",
              "      <td>R&amp;B/Soul</td>\n",
              "    </tr>\n",
              "    <tr>\n",
              "      <th>Dance Monkey</th>\n",
              "      <td>Tones And I</td>\n",
              "      <td>Dance Monkey</td>\n",
              "      <td>0.593</td>\n",
              "      <td>0.825</td>\n",
              "      <td>6</td>\n",
              "      <td>-6.401</td>\n",
              "      <td>0.68800</td>\n",
              "      <td>0.0988</td>\n",
              "      <td>0.000161</td>\n",
              "      <td>0.1700</td>\n",
              "      <td>0.540</td>\n",
              "      <td>98.078</td>\n",
              "      <td>209755</td>\n",
              "      <td>Alternative/Indie</td>\n",
              "    </tr>\n",
              "    <tr>\n",
              "      <th>The Box</th>\n",
              "      <td>Roddy Ricch</td>\n",
              "      <td>Please Excuse Me For Being Antisocial</td>\n",
              "      <td>0.586</td>\n",
              "      <td>0.896</td>\n",
              "      <td>10</td>\n",
              "      <td>-6.687</td>\n",
              "      <td>0.10400</td>\n",
              "      <td>0.0559</td>\n",
              "      <td>0.000000</td>\n",
              "      <td>0.7900</td>\n",
              "      <td>0.642</td>\n",
              "      <td>116.971</td>\n",
              "      <td>196653</td>\n",
              "      <td>Hip-Hop/Rap</td>\n",
              "    </tr>\n",
              "    <tr>\n",
              "      <th>Roses - Imanbek Remix</th>\n",
              "      <td>SAINt JHN</td>\n",
              "      <td>Roses (Imanbek Remix)</td>\n",
              "      <td>0.721</td>\n",
              "      <td>0.785</td>\n",
              "      <td>8</td>\n",
              "      <td>-5.457</td>\n",
              "      <td>0.01490</td>\n",
              "      <td>0.0506</td>\n",
              "      <td>0.004320</td>\n",
              "      <td>0.2850</td>\n",
              "      <td>0.894</td>\n",
              "      <td>121.962</td>\n",
              "      <td>176219</td>\n",
              "      <td>Dance/Electronic</td>\n",
              "    </tr>\n",
              "    <tr>\n",
              "      <th>Don't Start Now</th>\n",
              "      <td>Dua Lipa</td>\n",
              "      <td>Future Nostalgia</td>\n",
              "      <td>0.793</td>\n",
              "      <td>0.793</td>\n",
              "      <td>11</td>\n",
              "      <td>-4.521</td>\n",
              "      <td>0.01230</td>\n",
              "      <td>0.0830</td>\n",
              "      <td>0.000000</td>\n",
              "      <td>0.0951</td>\n",
              "      <td>0.679</td>\n",
              "      <td>123.950</td>\n",
              "      <td>183290</td>\n",
              "      <td>Nu-disco</td>\n",
              "    </tr>\n",
              "  </tbody>\n",
              "</table>\n",
              "</div>\n",
              "      <button class=\"colab-df-convert\" onclick=\"convertToInteractive('df-0fc6bb0a-f3e2-4a72-b8b6-cb9a78950ab4')\"\n",
              "              title=\"Convert this dataframe to an interactive table.\"\n",
              "              style=\"display:none;\">\n",
              "        \n",
              "  <svg xmlns=\"http://www.w3.org/2000/svg\" height=\"24px\"viewBox=\"0 0 24 24\"\n",
              "       width=\"24px\">\n",
              "    <path d=\"M0 0h24v24H0V0z\" fill=\"none\"/>\n",
              "    <path d=\"M18.56 5.44l.94 2.06.94-2.06 2.06-.94-2.06-.94-.94-2.06-.94 2.06-2.06.94zm-11 1L8.5 8.5l.94-2.06 2.06-.94-2.06-.94L8.5 2.5l-.94 2.06-2.06.94zm10 10l.94 2.06.94-2.06 2.06-.94-2.06-.94-.94-2.06-.94 2.06-2.06.94z\"/><path d=\"M17.41 7.96l-1.37-1.37c-.4-.4-.92-.59-1.43-.59-.52 0-1.04.2-1.43.59L10.3 9.45l-7.72 7.72c-.78.78-.78 2.05 0 2.83L4 21.41c.39.39.9.59 1.41.59.51 0 1.02-.2 1.41-.59l7.78-7.78 2.81-2.81c.8-.78.8-2.07 0-2.86zM5.41 20L4 18.59l7.72-7.72 1.47 1.35L5.41 20z\"/>\n",
              "  </svg>\n",
              "      </button>\n",
              "      \n",
              "  <style>\n",
              "    .colab-df-container {\n",
              "      display:flex;\n",
              "      flex-wrap:wrap;\n",
              "      gap: 12px;\n",
              "    }\n",
              "\n",
              "    .colab-df-convert {\n",
              "      background-color: #E8F0FE;\n",
              "      border: none;\n",
              "      border-radius: 50%;\n",
              "      cursor: pointer;\n",
              "      display: none;\n",
              "      fill: #1967D2;\n",
              "      height: 32px;\n",
              "      padding: 0 0 0 0;\n",
              "      width: 32px;\n",
              "    }\n",
              "\n",
              "    .colab-df-convert:hover {\n",
              "      background-color: #E2EBFA;\n",
              "      box-shadow: 0px 1px 2px rgba(60, 64, 67, 0.3), 0px 1px 3px 1px rgba(60, 64, 67, 0.15);\n",
              "      fill: #174EA6;\n",
              "    }\n",
              "\n",
              "    [theme=dark] .colab-df-convert {\n",
              "      background-color: #3B4455;\n",
              "      fill: #D2E3FC;\n",
              "    }\n",
              "\n",
              "    [theme=dark] .colab-df-convert:hover {\n",
              "      background-color: #434B5C;\n",
              "      box-shadow: 0px 1px 3px 1px rgba(0, 0, 0, 0.15);\n",
              "      filter: drop-shadow(0px 1px 2px rgba(0, 0, 0, 0.3));\n",
              "      fill: #FFFFFF;\n",
              "    }\n",
              "  </style>\n",
              "\n",
              "      <script>\n",
              "        const buttonEl =\n",
              "          document.querySelector('#df-0fc6bb0a-f3e2-4a72-b8b6-cb9a78950ab4 button.colab-df-convert');\n",
              "        buttonEl.style.display =\n",
              "          google.colab.kernel.accessAllowed ? 'block' : 'none';\n",
              "\n",
              "        async function convertToInteractive(key) {\n",
              "          const element = document.querySelector('#df-0fc6bb0a-f3e2-4a72-b8b6-cb9a78950ab4');\n",
              "          const dataTable =\n",
              "            await google.colab.kernel.invokeFunction('convertToInteractive',\n",
              "                                                     [key], {});\n",
              "          if (!dataTable) return;\n",
              "\n",
              "          const docLinkHtml = 'Like what you see? Visit the ' +\n",
              "            '<a target=\"_blank\" href=https://colab.research.google.com/notebooks/data_table.ipynb>data table notebook</a>'\n",
              "            + ' to learn more about interactive tables.';\n",
              "          element.innerHTML = '';\n",
              "          dataTable['output_type'] = 'display_data';\n",
              "          await google.colab.output.renderOutput(dataTable, element);\n",
              "          const docLink = document.createElement('div');\n",
              "          docLink.innerHTML = docLinkHtml;\n",
              "          element.appendChild(docLink);\n",
              "        }\n",
              "      </script>\n",
              "    </div>\n",
              "  </div>\n",
              "  "
            ]
          },
          "metadata": {},
          "execution_count": 49
        }
      ]
    },
    {
      "cell_type": "markdown",
      "source": [
        "## Difference between top son and a random song in the list\n",
        "* It will be displayed if the most listened to song has any difference in terms of energy, danceability, key, loudness and acousticness."
      ],
      "metadata": {
        "id": "TxJqEUbUmgdD"
      }
    },
    {
      "cell_type": "code",
      "source": [
        "nf = df.loc[['Blinding Lights','lovely (with Khalid)'], 'energy':'acousticness']\n",
        "\n",
        "nic = nf.transpose()\n",
        "\n",
        "nic.plot(figsize = (15,10))\n",
        "\n",
        "plt.xlabel('Songs', fontsize =17)\n",
        "plt.xticks(fontsize = 10)\n",
        "\n",
        "plt.ylabel('Energy', fontsize = 17)\n",
        "plt.yticks(fontsize = 14)\n",
        "\n",
        "plt.title('Comparison top song (Blinding Lights) vs Lovely (with Khalid)', fontsize=17)\n",
        "\n",
        "plt.show()"
      ],
      "metadata": {
        "colab": {
          "base_uri": "https://localhost:8080/",
          "height": 636
        },
        "id": "Sdv-7Q2Mmhng",
        "outputId": "34b1b13c-6f1b-4cc6-c124-926a0ecaf5ea"
      },
      "execution_count": null,
      "outputs": [
        {
          "output_type": "display_data",
          "data": {
            "text/plain": [
              "<Figure size 1080x720 with 1 Axes>"
            ],
            "image/png": "[encoded data removed]"
          },
          "metadata": {}
        }
      ]
    },
    {
      "cell_type": "markdown",
      "source": [
        "#### Conclusion --> Apparently the song 'Blinding Lights' has a higher 'key', lower 'loudness' and higher 'acousticness', while the other variables remain similar."
      ],
      "metadata": {
        "id": "8cMcIIZzmmgO"
      }
    },
    {
      "cell_type": "markdown",
      "source": [
        "# FINAL"
      ],
      "metadata": {
        "id": "r_ivWjSkmnrK"
      }
    },
    {
      "cell_type": "markdown",
      "source": [
        "### What is the correlation of the numerical variables?"
      ],
      "metadata": {
        "id": "ei6IAshQmrbx"
      }
    },
    {
      "cell_type": "code",
      "source": [
        "df.corr()"
      ],
      "metadata": {
        "colab": {
          "base_uri": "https://localhost:8080/",
          "height": 394
        },
        "id": "qQmNLKQUjE2o",
        "outputId": "d28090a6-e492-4e6f-a754-f9989822971b"
      },
      "execution_count": null,
      "outputs": [
        {
          "output_type": "execute_result",
          "data": {
            "text/plain": [
              "                    energy  danceability       key  loudness  acousticness  \\\n",
              "energy            1.000000      0.152552  0.062428  0.791640     -0.682479   \n",
              "danceability      0.152552      1.000000  0.285036  0.167147     -0.359135   \n",
              "key               0.062428      0.285036  1.000000 -0.009178     -0.113394   \n",
              "loudness          0.791640      0.167147 -0.009178  1.000000     -0.498695   \n",
              "acousticness     -0.682479     -0.359135 -0.113394 -0.498695      1.000000   \n",
              "speechiness       0.074267      0.226148 -0.094965 -0.021693     -0.135392   \n",
              "instrumentalness -0.385515     -0.017706  0.020802 -0.553735      0.352184   \n",
              "liveness          0.069487     -0.006648  0.278672 -0.069939     -0.128384   \n",
              "valence           0.393453      0.479953  0.120007  0.406772     -0.243192   \n",
              "tempo             0.075191      0.168956  0.080475  0.102097     -0.241119   \n",
              "duration_ms       0.081971     -0.033763 -0.003345  0.064130     -0.010988   \n",
              "\n",
              "                  speechiness  instrumentalness  liveness   valence     tempo  \\\n",
              "energy               0.074267         -0.385515  0.069487  0.393453  0.075191   \n",
              "danceability         0.226148         -0.017706 -0.006648  0.479953  0.168956   \n",
              "key                 -0.094965          0.020802  0.278672  0.120007  0.080475   \n",
              "loudness            -0.021693         -0.553735 -0.069939  0.406772  0.102097   \n",
              "acousticness        -0.135392          0.352184 -0.128384 -0.243192 -0.241119   \n",
              "speechiness          1.000000          0.028948 -0.142957  0.053867  0.215504   \n",
              "instrumentalness     0.028948          1.000000 -0.087034 -0.203283  0.018853   \n",
              "liveness            -0.142957         -0.087034  1.000000 -0.033366  0.025457   \n",
              "valence              0.053867         -0.203283 -0.033366  1.000000  0.045089   \n",
              "tempo                0.215504          0.018853  0.025457  0.045089  1.000000   \n",
              "duration_ms          0.366976          0.184709 -0.090188 -0.039794  0.130328   \n",
              "\n",
              "                  duration_ms  \n",
              "energy               0.081971  \n",
              "danceability        -0.033763  \n",
              "key                 -0.003345  \n",
              "loudness             0.064130  \n",
              "acousticness        -0.010988  \n",
              "speechiness          0.366976  \n",
              "instrumentalness     0.184709  \n",
              "liveness            -0.090188  \n",
              "valence             -0.039794  \n",
              "tempo                0.130328  \n",
              "duration_ms          1.000000  "
            ],
            "text/html": [
              "\n",
              "  <div id=\"df-37945a1e-9a64-4335-bfa6-dc8afd539b81\">\n",
              "    <div class=\"colab-df-container\">\n",
              "      <div>\n",
              "<style scoped>\n",
              "    .dataframe tbody tr th:only-of-type {\n",
              "        vertical-align: middle;\n",
              "    }\n",
              "\n",
              "    .dataframe tbody tr th {\n",
              "        vertical-align: top;\n",
              "    }\n",
              "\n",
              "    .dataframe thead th {\n",
              "        text-align: right;\n",
              "    }\n",
              "</style>\n",
              "<table border=\"1\" class=\"dataframe\">\n",
              "  <thead>\n",
              "    <tr style=\"text-align: right;\">\n",
              "      <th></th>\n",
              "      <th>energy</th>\n",
              "      <th>danceability</th>\n",
              "      <th>key</th>\n",
              "      <th>loudness</th>\n",
              "      <th>acousticness</th>\n",
              "      <th>speechiness</th>\n",
              "      <th>instrumentalness</th>\n",
              "      <th>liveness</th>\n",
              "      <th>valence</th>\n",
              "      <th>tempo</th>\n",
              "      <th>duration_ms</th>\n",
              "    </tr>\n",
              "  </thead>\n",
              "  <tbody>\n",
              "    <tr>\n",
              "      <th>energy</th>\n",
              "      <td>1.000000</td>\n",
              "      <td>0.152552</td>\n",
              "      <td>0.062428</td>\n",
              "      <td>0.791640</td>\n",
              "      <td>-0.682479</td>\n",
              "      <td>0.074267</td>\n",
              "      <td>-0.385515</td>\n",
              "      <td>0.069487</td>\n",
              "      <td>0.393453</td>\n",
              "      <td>0.075191</td>\n",
              "      <td>0.081971</td>\n",
              "    </tr>\n",
              "    <tr>\n",
              "      <th>danceability</th>\n",
              "      <td>0.152552</td>\n",
              "      <td>1.000000</td>\n",
              "      <td>0.285036</td>\n",
              "      <td>0.167147</td>\n",
              "      <td>-0.359135</td>\n",
              "      <td>0.226148</td>\n",
              "      <td>-0.017706</td>\n",
              "      <td>-0.006648</td>\n",
              "      <td>0.479953</td>\n",
              "      <td>0.168956</td>\n",
              "      <td>-0.033763</td>\n",
              "    </tr>\n",
              "    <tr>\n",
              "      <th>key</th>\n",
              "      <td>0.062428</td>\n",
              "      <td>0.285036</td>\n",
              "      <td>1.000000</td>\n",
              "      <td>-0.009178</td>\n",
              "      <td>-0.113394</td>\n",
              "      <td>-0.094965</td>\n",
              "      <td>0.020802</td>\n",
              "      <td>0.278672</td>\n",
              "      <td>0.120007</td>\n",
              "      <td>0.080475</td>\n",
              "      <td>-0.003345</td>\n",
              "    </tr>\n",
              "    <tr>\n",
              "      <th>loudness</th>\n",
              "      <td>0.791640</td>\n",
              "      <td>0.167147</td>\n",
              "      <td>-0.009178</td>\n",
              "      <td>1.000000</td>\n",
              "      <td>-0.498695</td>\n",
              "      <td>-0.021693</td>\n",
              "      <td>-0.553735</td>\n",
              "      <td>-0.069939</td>\n",
              "      <td>0.406772</td>\n",
              "      <td>0.102097</td>\n",
              "      <td>0.064130</td>\n",
              "    </tr>\n",
              "    <tr>\n",
              "      <th>acousticness</th>\n",
              "      <td>-0.682479</td>\n",
              "      <td>-0.359135</td>\n",
              "      <td>-0.113394</td>\n",
              "      <td>-0.498695</td>\n",
              "      <td>1.000000</td>\n",
              "      <td>-0.135392</td>\n",
              "      <td>0.352184</td>\n",
              "      <td>-0.128384</td>\n",
              "      <td>-0.243192</td>\n",
              "      <td>-0.241119</td>\n",
              "      <td>-0.010988</td>\n",
              "    </tr>\n",
              "    <tr>\n",
              "      <th>speechiness</th>\n",
              "      <td>0.074267</td>\n",
              "      <td>0.226148</td>\n",
              "      <td>-0.094965</td>\n",
              "      <td>-0.021693</td>\n",
              "      <td>-0.135392</td>\n",
              "      <td>1.000000</td>\n",
              "      <td>0.028948</td>\n",
              "      <td>-0.142957</td>\n",
              "      <td>0.053867</td>\n",
              "      <td>0.215504</td>\n",
              "      <td>0.366976</td>\n",
              "    </tr>\n",
              "    <tr>\n",
              "      <th>instrumentalness</th>\n",
              "      <td>-0.385515</td>\n",
              "      <td>-0.017706</td>\n",
              "      <td>0.020802</td>\n",
              "      <td>-0.553735</td>\n",
              "      <td>0.352184</td>\n",
              "      <td>0.028948</td>\n",
              "      <td>1.000000</td>\n",
              "      <td>-0.087034</td>\n",
              "      <td>-0.203283</td>\n",
              "      <td>0.018853</td>\n",
              "      <td>0.184709</td>\n",
              "    </tr>\n",
              "    <tr>\n",
              "      <th>liveness</th>\n",
              "      <td>0.069487</td>\n",
              "      <td>-0.006648</td>\n",
              "      <td>0.278672</td>\n",
              "      <td>-0.069939</td>\n",
              "      <td>-0.128384</td>\n",
              "      <td>-0.142957</td>\n",
              "      <td>-0.087034</td>\n",
              "      <td>1.000000</td>\n",
              "      <td>-0.033366</td>\n",
              "      <td>0.025457</td>\n",
              "      <td>-0.090188</td>\n",
              "    </tr>\n",
              "    <tr>\n",
              "      <th>valence</th>\n",
              "      <td>0.393453</td>\n",
              "      <td>0.479953</td>\n",
              "      <td>0.120007</td>\n",
              "      <td>0.406772</td>\n",
              "      <td>-0.243192</td>\n",
              "      <td>0.053867</td>\n",
              "      <td>-0.203283</td>\n",
              "      <td>-0.033366</td>\n",
              "      <td>1.000000</td>\n",
              "      <td>0.045089</td>\n",
              "      <td>-0.039794</td>\n",
              "    </tr>\n",
              "    <tr>\n",
              "      <th>tempo</th>\n",
              "      <td>0.075191</td>\n",
              "      <td>0.168956</td>\n",
              "      <td>0.080475</td>\n",
              "      <td>0.102097</td>\n",
              "      <td>-0.241119</td>\n",
              "      <td>0.215504</td>\n",
              "      <td>0.018853</td>\n",
              "      <td>0.025457</td>\n",
              "      <td>0.045089</td>\n",
              "      <td>1.000000</td>\n",
              "      <td>0.130328</td>\n",
              "    </tr>\n",
              "    <tr>\n",
              "      <th>duration_ms</th>\n",
              "      <td>0.081971</td>\n",
              "      <td>-0.033763</td>\n",
              "      <td>-0.003345</td>\n",
              "      <td>0.064130</td>\n",
              "      <td>-0.010988</td>\n",
              "      <td>0.366976</td>\n",
              "      <td>0.184709</td>\n",
              "      <td>-0.090188</td>\n",
              "      <td>-0.039794</td>\n",
              "      <td>0.130328</td>\n",
              "      <td>1.000000</td>\n",
              "    </tr>\n",
              "  </tbody>\n",
              "</table>\n",
              "</div>\n",
              "      <button class=\"colab-df-convert\" onclick=\"convertToInteractive('df-37945a1e-9a64-4335-bfa6-dc8afd539b81')\"\n",
              "              title=\"Convert this dataframe to an interactive table.\"\n",
              "              style=\"display:none;\">\n",
              "        \n",
              "  <svg xmlns=\"http://www.w3.org/2000/svg\" height=\"24px\"viewBox=\"0 0 24 24\"\n",
              "       width=\"24px\">\n",
              "    <path d=\"M0 0h24v24H0V0z\" fill=\"none\"/>\n",
              "    <path d=\"M18.56 5.44l.94 2.06.94-2.06 2.06-.94-2.06-.94-.94-2.06-.94 2.06-2.06.94zm-11 1L8.5 8.5l.94-2.06 2.06-.94-2.06-.94L8.5 2.5l-.94 2.06-2.06.94zm10 10l.94 2.06.94-2.06 2.06-.94-2.06-.94-.94-2.06-.94 2.06-2.06.94z\"/><path d=\"M17.41 7.96l-1.37-1.37c-.4-.4-.92-.59-1.43-.59-.52 0-1.04.2-1.43.59L10.3 9.45l-7.72 7.72c-.78.78-.78 2.05 0 2.83L4 21.41c.39.39.9.59 1.41.59.51 0 1.02-.2 1.41-.59l7.78-7.78 2.81-2.81c.8-.78.8-2.07 0-2.86zM5.41 20L4 18.59l7.72-7.72 1.47 1.35L5.41 20z\"/>\n",
              "  </svg>\n",
              "      </button>\n",
              "      \n",
              "  <style>\n",
              "    .colab-df-container {\n",
              "      display:flex;\n",
              "      flex-wrap:wrap;\n",
              "      gap: 12px;\n",
              "    }\n",
              "\n",
              "    .colab-df-convert {\n",
              "      background-color: #E8F0FE;\n",
              "      border: none;\n",
              "      border-radius: 50%;\n",
              "      cursor: pointer;\n",
              "      display: none;\n",
              "      fill: #1967D2;\n",
              "      height: 32px;\n",
              "      padding: 0 0 0 0;\n",
              "      width: 32px;\n",
              "    }\n",
              "\n",
              "    .colab-df-convert:hover {\n",
              "      background-color: #E2EBFA;\n",
              "      box-shadow: 0px 1px 2px rgba(60, 64, 67, 0.3), 0px 1px 3px 1px rgba(60, 64, 67, 0.15);\n",
              "      fill: #174EA6;\n",
              "    }\n",
              "\n",
              "    [theme=dark] .colab-df-convert {\n",
              "      background-color: #3B4455;\n",
              "      fill: #D2E3FC;\n",
              "    }\n",
              "\n",
              "    [theme=dark] .colab-df-convert:hover {\n",
              "      background-color: #434B5C;\n",
              "      box-shadow: 0px 1px 3px 1px rgba(0, 0, 0, 0.15);\n",
              "      filter: drop-shadow(0px 1px 2px rgba(0, 0, 0, 0.3));\n",
              "      fill: #FFFFFF;\n",
              "    }\n",
              "  </style>\n",
              "\n",
              "      <script>\n",
              "        const buttonEl =\n",
              "          document.querySelector('#df-37945a1e-9a64-4335-bfa6-dc8afd539b81 button.colab-df-convert');\n",
              "        buttonEl.style.display =\n",
              "          google.colab.kernel.accessAllowed ? 'block' : 'none';\n",
              "\n",
              "        async function convertToInteractive(key) {\n",
              "          const element = document.querySelector('#df-37945a1e-9a64-4335-bfa6-dc8afd539b81');\n",
              "          const dataTable =\n",
              "            await google.colab.kernel.invokeFunction('convertToInteractive',\n",
              "                                                     [key], {});\n",
              "          if (!dataTable) return;\n",
              "\n",
              "          const docLinkHtml = 'Like what you see? Visit the ' +\n",
              "            '<a target=\"_blank\" href=https://colab.research.google.com/notebooks/data_table.ipynb>data table notebook</a>'\n",
              "            + ' to learn more about interactive tables.';\n",
              "          element.innerHTML = '';\n",
              "          dataTable['output_type'] = 'display_data';\n",
              "          await google.colab.output.renderOutput(dataTable, element);\n",
              "          const docLink = document.createElement('div');\n",
              "          docLink.innerHTML = docLinkHtml;\n",
              "          element.appendChild(docLink);\n",
              "        }\n",
              "      </script>\n",
              "    </div>\n",
              "  </div>\n",
              "  "
            ]
          },
          "metadata": {},
          "execution_count": 51
        }
      ]
    },
    {
      "cell_type": "markdown",
      "source": [
        "Conclusion -> using the function 'corr()', it was possible to display the requested data, which in this case was the correlation between each numerical variable in the database."
      ],
      "metadata": {
        "id": "owcvDjHIjN4i"
      }
    },
    {
      "cell_type": "code",
      "source": [
        "df.dropna(inplace = True)\n",
        "df.head(2)"
      ],
      "metadata": {
        "colab": {
          "base_uri": "https://localhost:8080/",
          "height": 242
        },
        "id": "CxjJXnJ_jPAt",
        "outputId": "16b5ea49-4f0f-454a-ee5f-539b23fabf9b"
      },
      "execution_count": null,
      "outputs": [
        {
          "output_type": "execute_result",
          "data": {
            "text/plain": [
              "                      artist         album  energy  danceability  key  \\\n",
              "track_name                                                              \n",
              "Blinding Lights   The Weeknd   After Hours   0.730         0.514    1   \n",
              "Dance Monkey     Tones And I  Dance Monkey   0.593         0.825    6   \n",
              "\n",
              "                 loudness  acousticness  speechiness  instrumentalness  \\\n",
              "track_name                                                               \n",
              "Blinding Lights    -5.934       0.00146       0.0598          0.000095   \n",
              "Dance Monkey       -6.401       0.68800       0.0988          0.000161   \n",
              "\n",
              "                 liveness  valence    tempo  duration_ms              genre  \n",
              "track_name                                                                   \n",
              "Blinding Lights    0.0897    0.334  171.005       200040           R&B/Soul  \n",
              "Dance Monkey       0.1700    0.540   98.078       209755  Alternative/Indie  "
            ],
            "text/html": [
              "\n",
              "  <div id=\"df-6c961d93-52ed-4c3d-a273-54869fc15a57\">\n",
              "    <div class=\"colab-df-container\">\n",
              "      <div>\n",
              "<style scoped>\n",
              "    .dataframe tbody tr th:only-of-type {\n",
              "        vertical-align: middle;\n",
              "    }\n",
              "\n",
              "    .dataframe tbody tr th {\n",
              "        vertical-align: top;\n",
              "    }\n",
              "\n",
              "    .dataframe thead th {\n",
              "        text-align: right;\n",
              "    }\n",
              "</style>\n",
              "<table border=\"1\" class=\"dataframe\">\n",
              "  <thead>\n",
              "    <tr style=\"text-align: right;\">\n",
              "      <th></th>\n",
              "      <th>artist</th>\n",
              "      <th>album</th>\n",
              "      <th>energy</th>\n",
              "      <th>danceability</th>\n",
              "      <th>key</th>\n",
              "      <th>loudness</th>\n",
              "      <th>acousticness</th>\n",
              "      <th>speechiness</th>\n",
              "      <th>instrumentalness</th>\n",
              "      <th>liveness</th>\n",
              "      <th>valence</th>\n",
              "      <th>tempo</th>\n",
              "      <th>duration_ms</th>\n",
              "      <th>genre</th>\n",
              "    </tr>\n",
              "    <tr>\n",
              "      <th>track_name</th>\n",
              "      <th></th>\n",
              "      <th></th>\n",
              "      <th></th>\n",
              "      <th></th>\n",
              "      <th></th>\n",
              "      <th></th>\n",
              "      <th></th>\n",
              "      <th></th>\n",
              "      <th></th>\n",
              "      <th></th>\n",
              "      <th></th>\n",
              "      <th></th>\n",
              "      <th></th>\n",
              "      <th></th>\n",
              "    </tr>\n",
              "  </thead>\n",
              "  <tbody>\n",
              "    <tr>\n",
              "      <th>Blinding Lights</th>\n",
              "      <td>The Weeknd</td>\n",
              "      <td>After Hours</td>\n",
              "      <td>0.730</td>\n",
              "      <td>0.514</td>\n",
              "      <td>1</td>\n",
              "      <td>-5.934</td>\n",
              "      <td>0.00146</td>\n",
              "      <td>0.0598</td>\n",
              "      <td>0.000095</td>\n",
              "      <td>0.0897</td>\n",
              "      <td>0.334</td>\n",
              "      <td>171.005</td>\n",
              "      <td>200040</td>\n",
              "      <td>R&amp;B/Soul</td>\n",
              "    </tr>\n",
              "    <tr>\n",
              "      <th>Dance Monkey</th>\n",
              "      <td>Tones And I</td>\n",
              "      <td>Dance Monkey</td>\n",
              "      <td>0.593</td>\n",
              "      <td>0.825</td>\n",
              "      <td>6</td>\n",
              "      <td>-6.401</td>\n",
              "      <td>0.68800</td>\n",
              "      <td>0.0988</td>\n",
              "      <td>0.000161</td>\n",
              "      <td>0.1700</td>\n",
              "      <td>0.540</td>\n",
              "      <td>98.078</td>\n",
              "      <td>209755</td>\n",
              "      <td>Alternative/Indie</td>\n",
              "    </tr>\n",
              "  </tbody>\n",
              "</table>\n",
              "</div>\n",
              "      <button class=\"colab-df-convert\" onclick=\"convertToInteractive('df-6c961d93-52ed-4c3d-a273-54869fc15a57')\"\n",
              "              title=\"Convert this dataframe to an interactive table.\"\n",
              "              style=\"display:none;\">\n",
              "        \n",
              "  <svg xmlns=\"http://www.w3.org/2000/svg\" height=\"24px\"viewBox=\"0 0 24 24\"\n",
              "       width=\"24px\">\n",
              "    <path d=\"M0 0h24v24H0V0z\" fill=\"none\"/>\n",
              "    <path d=\"M18.56 5.44l.94 2.06.94-2.06 2.06-.94-2.06-.94-.94-2.06-.94 2.06-2.06.94zm-11 1L8.5 8.5l.94-2.06 2.06-.94-2.06-.94L8.5 2.5l-.94 2.06-2.06.94zm10 10l.94 2.06.94-2.06 2.06-.94-2.06-.94-.94-2.06-.94 2.06-2.06.94z\"/><path d=\"M17.41 7.96l-1.37-1.37c-.4-.4-.92-.59-1.43-.59-.52 0-1.04.2-1.43.59L10.3 9.45l-7.72 7.72c-.78.78-.78 2.05 0 2.83L4 21.41c.39.39.9.59 1.41.59.51 0 1.02-.2 1.41-.59l7.78-7.78 2.81-2.81c.8-.78.8-2.07 0-2.86zM5.41 20L4 18.59l7.72-7.72 1.47 1.35L5.41 20z\"/>\n",
              "  </svg>\n",
              "      </button>\n",
              "      \n",
              "  <style>\n",
              "    .colab-df-container {\n",
              "      display:flex;\n",
              "      flex-wrap:wrap;\n",
              "      gap: 12px;\n",
              "    }\n",
              "\n",
              "    .colab-df-convert {\n",
              "      background-color: #E8F0FE;\n",
              "      border: none;\n",
              "      border-radius: 50%;\n",
              "      cursor: pointer;\n",
              "      display: none;\n",
              "      fill: #1967D2;\n",
              "      height: 32px;\n",
              "      padding: 0 0 0 0;\n",
              "      width: 32px;\n",
              "    }\n",
              "\n",
              "    .colab-df-convert:hover {\n",
              "      background-color: #E2EBFA;\n",
              "      box-shadow: 0px 1px 2px rgba(60, 64, 67, 0.3), 0px 1px 3px 1px rgba(60, 64, 67, 0.15);\n",
              "      fill: #174EA6;\n",
              "    }\n",
              "\n",
              "    [theme=dark] .colab-df-convert {\n",
              "      background-color: #3B4455;\n",
              "      fill: #D2E3FC;\n",
              "    }\n",
              "\n",
              "    [theme=dark] .colab-df-convert:hover {\n",
              "      background-color: #434B5C;\n",
              "      box-shadow: 0px 1px 3px 1px rgba(0, 0, 0, 0.15);\n",
              "      filter: drop-shadow(0px 1px 2px rgba(0, 0, 0, 0.3));\n",
              "      fill: #FFFFFF;\n",
              "    }\n",
              "  </style>\n",
              "\n",
              "      <script>\n",
              "        const buttonEl =\n",
              "          document.querySelector('#df-6c961d93-52ed-4c3d-a273-54869fc15a57 button.colab-df-convert');\n",
              "        buttonEl.style.display =\n",
              "          google.colab.kernel.accessAllowed ? 'block' : 'none';\n",
              "\n",
              "        async function convertToInteractive(key) {\n",
              "          const element = document.querySelector('#df-6c961d93-52ed-4c3d-a273-54869fc15a57');\n",
              "          const dataTable =\n",
              "            await google.colab.kernel.invokeFunction('convertToInteractive',\n",
              "                                                     [key], {});\n",
              "          if (!dataTable) return;\n",
              "\n",
              "          const docLinkHtml = 'Like what you see? Visit the ' +\n",
              "            '<a target=\"_blank\" href=https://colab.research.google.com/notebooks/data_table.ipynb>data table notebook</a>'\n",
              "            + ' to learn more about interactive tables.';\n",
              "          element.innerHTML = '';\n",
              "          dataTable['output_type'] = 'display_data';\n",
              "          await google.colab.output.renderOutput(dataTable, element);\n",
              "          const docLink = document.createElement('div');\n",
              "          docLink.innerHTML = docLinkHtml;\n",
              "          element.appendChild(docLink);\n",
              "        }\n",
              "      </script>\n",
              "    </div>\n",
              "  </div>\n",
              "  "
            ]
          },
          "metadata": {},
          "execution_count": 23
        }
      ]
    },
    {
      "cell_type": "markdown",
      "source": [
        "### Is there a linear regresion between 'Energy' and 'Tempo?"
      ],
      "metadata": {
        "id": "bv2vjfuIjUlo"
      }
    },
    {
      "cell_type": "code",
      "source": [
        "y = pd.DataFrame(df['energy'])\n",
        "x = pd.DataFrame(df['tempo'])\n",
        "\n",
        "lm = linear_model.LinearRegression()\n",
        "model_lm = lm.fit(x, y)\n",
        "model_lm"
      ],
      "metadata": {
        "colab": {
          "base_uri": "https://localhost:8080/",
          "height": 0
        },
        "id": "5u57jjnVjSqY",
        "outputId": "91af2321-3556-4aca-8483-1600e46ee6fa"
      },
      "execution_count": 41,
      "outputs": [
        {
          "output_type": "execute_result",
          "data": {
            "text/plain": [
              "LinearRegression()"
            ]
          },
          "metadata": {},
          "execution_count": 41
        }
      ]
    },
    {
      "cell_type": "code",
      "source": [
        "print('The y-intercep, b0 = ', model_lm.intercept_)\n",
        "print('The coefficient, b1 = ', model_lm.coef_)\n",
        "print('The R-squared value is = ', model_lm.score(x,y))"
      ],
      "metadata": {
        "colab": {
          "base_uri": "https://localhost:8080/",
          "height": 0
        },
        "id": "5E2g014UjVw5",
        "outputId": "ab6147ca-eec1-4ac5-edaf-c032463eadf7"
      },
      "execution_count": 42,
      "outputs": [
        {
          "output_type": "stream",
          "name": "stdout",
          "text": [
            "The y-intercep, b0 =  [0.55464396]\n",
            "The coefficient, b1 =  [[0.00045664]]\n",
            "The R-squared value is =  0.005653624519088796\n"
          ]
        }
      ]
    },
    {
      "cell_type": "code",
      "source": [
        "modelA = sm.OLS.from_formula('energy~tempo', data = df)\n",
        "resultA = modelA.fit()\n",
        "resultA.summary()"
      ],
      "metadata": {
        "colab": {
          "base_uri": "https://localhost:8080/",
          "height": 449
        },
        "id": "iZ5cKnENjZVc",
        "outputId": "7800f94b-f409-41c9-b18f-1d3a34368858"
      },
      "execution_count": 26,
      "outputs": [
        {
          "output_type": "execute_result",
          "data": {
            "text/plain": [
              "<class 'statsmodels.iolib.summary.Summary'>\n",
              "\"\"\"\n",
              "                            OLS Regression Results                            \n",
              "==============================================================================\n",
              "Dep. Variable:                 energy   R-squared:                       0.006\n",
              "Model:                            OLS   Adj. R-squared:                 -0.015\n",
              "Method:                 Least Squares   F-statistic:                    0.2729\n",
              "Date:                Fri, 18 Mar 2022   Prob (F-statistic):              0.604\n",
              "Time:                        00:00:50   Log-Likelihood:                 23.127\n",
              "No. Observations:                  50   AIC:                            -42.25\n",
              "Df Residuals:                      48   BIC:                            -38.43\n",
              "Df Model:                           1                                         \n",
              "Covariance Type:            nonrobust                                         \n",
              "==============================================================================\n",
              "                 coef    std err          t      P>|t|      [0.025      0.975]\n",
              "------------------------------------------------------------------------------\n",
              "Intercept      0.5546      0.107      5.188      0.000       0.340       0.770\n",
              "tempo          0.0005      0.001      0.522      0.604      -0.001       0.002\n",
              "==============================================================================\n",
              "Omnibus:                        2.585   Durbin-Watson:                   1.853\n",
              "Prob(Omnibus):                  0.275   Jarque-Bera (JB):                2.200\n",
              "Skew:                          -0.396   Prob(JB):                        0.333\n",
              "Kurtosis:                       2.344   Cond. No.                         595.\n",
              "==============================================================================\n",
              "\n",
              "Warnings:\n",
              "[1] Standard Errors assume that the covariance matrix of the errors is correctly specified.\n",
              "\"\"\""
            ],
            "text/html": [
              "<table class=\"simpletable\">\n",
              "<caption>OLS Regression Results</caption>\n",
              "<tr>\n",
              "  <th>Dep. Variable:</th>         <td>energy</td>      <th>  R-squared:         </th> <td>   0.006</td>\n",
              "</tr>\n",
              "<tr>\n",
              "  <th>Model:</th>                   <td>OLS</td>       <th>  Adj. R-squared:    </th> <td>  -0.015</td>\n",
              "</tr>\n",
              "<tr>\n",
              "  <th>Method:</th>             <td>Least Squares</td>  <th>  F-statistic:       </th> <td>  0.2729</td>\n",
              "</tr>\n",
              "<tr>\n",
              "  <th>Date:</th>             <td>Fri, 18 Mar 2022</td> <th>  Prob (F-statistic):</th>  <td> 0.604</td> \n",
              "</tr>\n",
              "<tr>\n",
              "  <th>Time:</th>                 <td>00:00:50</td>     <th>  Log-Likelihood:    </th> <td>  23.127</td>\n",
              "</tr>\n",
              "<tr>\n",
              "  <th>No. Observations:</th>      <td>    50</td>      <th>  AIC:               </th> <td>  -42.25</td>\n",
              "</tr>\n",
              "<tr>\n",
              "  <th>Df Residuals:</th>          <td>    48</td>      <th>  BIC:               </th> <td>  -38.43</td>\n",
              "</tr>\n",
              "<tr>\n",
              "  <th>Df Model:</th>              <td>     1</td>      <th>                     </th>     <td> </td>   \n",
              "</tr>\n",
              "<tr>\n",
              "  <th>Covariance Type:</th>      <td>nonrobust</td>    <th>                     </th>     <td> </td>   \n",
              "</tr>\n",
              "</table>\n",
              "<table class=\"simpletable\">\n",
              "<tr>\n",
              "      <td></td>         <th>coef</th>     <th>std err</th>      <th>t</th>      <th>P>|t|</th>  <th>[0.025</th>    <th>0.975]</th>  \n",
              "</tr>\n",
              "<tr>\n",
              "  <th>Intercept</th> <td>    0.5546</td> <td>    0.107</td> <td>    5.188</td> <td> 0.000</td> <td>    0.340</td> <td>    0.770</td>\n",
              "</tr>\n",
              "<tr>\n",
              "  <th>tempo</th>     <td>    0.0005</td> <td>    0.001</td> <td>    0.522</td> <td> 0.604</td> <td>   -0.001</td> <td>    0.002</td>\n",
              "</tr>\n",
              "</table>\n",
              "<table class=\"simpletable\">\n",
              "<tr>\n",
              "  <th>Omnibus:</th>       <td> 2.585</td> <th>  Durbin-Watson:     </th> <td>   1.853</td>\n",
              "</tr>\n",
              "<tr>\n",
              "  <th>Prob(Omnibus):</th> <td> 0.275</td> <th>  Jarque-Bera (JB):  </th> <td>   2.200</td>\n",
              "</tr>\n",
              "<tr>\n",
              "  <th>Skew:</th>          <td>-0.396</td> <th>  Prob(JB):          </th> <td>   0.333</td>\n",
              "</tr>\n",
              "<tr>\n",
              "  <th>Kurtosis:</th>      <td> 2.344</td> <th>  Cond. No.          </th> <td>    595.</td>\n",
              "</tr>\n",
              "</table><br/><br/>Warnings:<br/>[1] Standard Errors assume that the covariance matrix of the errors is correctly specified."
            ]
          },
          "metadata": {},
          "execution_count": 26
        }
      ]
    },
    {
      "cell_type": "markdown",
      "source": [
        "### Conclusion --> the relationship between the dependent variable'energy' and the intercept 'tempo' was able to predict the energy of a song with this formula: -->  Energy = 0.5546 + 0.0005*tempo"
      ],
      "metadata": {
        "id": "Wity68ZVjcQw"
      }
    },
    {
      "cell_type": "code",
      "source": [
        "from statsmodels.graphics.regressionplots import plot_ccpr"
      ],
      "metadata": {
        "id": "bnKn5WlGXcZi"
      },
      "execution_count": 33,
      "outputs": []
    },
    {
      "cell_type": "markdown",
      "source": [
        "## How does the tempo of a song afects its energy?"
      ],
      "metadata": {
        "id": "fRtVvsejae2f"
      }
    },
    {
      "cell_type": "code",
      "source": [
        "plot1 = plt.axes()\n",
        "plot_ccpr(resultA,\"tempo\", plot1)\n",
        "_ = plot1.lines[0].set_alpha(0.2)\n",
        "_ = plot1.set_ylabel(\"energy\")\n",
        "_ = plot1.set_title('Tempo Values')"
      ],
      "metadata": {
        "colab": {
          "base_uri": "https://localhost:8080/",
          "height": 550
        },
        "id": "fUe8bvD6Xl_j",
        "outputId": "d6161f7c-7db0-45af-e9d4-d093f395dd64"
      },
      "execution_count": 38,
      "outputs": [
        {
          "output_type": "display_data",
          "data": {
            "text/plain": [
              "<Figure size 842.4x595.44 with 1 Axes>"
            ],
            "image/png": "[encoded data removed]"
          },
          "metadata": {}
        }
      ]
    },
    {
      "cell_type": "markdown",
      "source": [
        "#### Through this graph it is possible to see that when the tempo of a song increases its energy also increses slightly, this concludes that it has a positive linear relationship, although it isn't as inclined, just slightly. "
      ],
      "metadata": {
        "id": "XBo9FIVlZ-1Z"
      }
    },
    {
      "cell_type": "markdown",
      "source": [
        "## What is the predicted energy of the top song with a tempo of 171.005?"
      ],
      "metadata": {
        "id": "5fzVuvqdjesp"
      }
    },
    {
      "cell_type": "code",
      "source": [
        "energy_value = 0.5546 + 0.0005*171.005\n",
        "print(\"The predicted value of the energy of a song with a tempo of 171.005 is \", energy_value)"
      ],
      "metadata": {
        "colab": {
          "base_uri": "https://localhost:8080/",
          "height": 0
        },
        "id": "KpV17ib9jaiB",
        "outputId": "70f74695-bf31-43bc-82b6-a5703bfe0258"
      },
      "execution_count": 27,
      "outputs": [
        {
          "output_type": "stream",
          "name": "stdout",
          "text": [
            "The predicted value of the energy of a song with a tempo of 171.005 is  0.6401025\n"
          ]
        }
      ]
    },
    {
      "cell_type": "code",
      "source": [
        "difference_energy = 0.730 - 0.6401025\n",
        "print(\"The difference between the orginal value and the predicted is \", difference_energy)"
      ],
      "metadata": {
        "colab": {
          "base_uri": "https://localhost:8080/",
          "height": 0
        },
        "id": "G12hLwQRjdj9",
        "outputId": "886f792d-89c3-4fcb-fa69-d7f95843b407"
      },
      "execution_count": 28,
      "outputs": [
        {
          "output_type": "stream",
          "name": "stdout",
          "text": [
            "The difference between the orginal value and the predicted is  0.08989749999999996\n"
          ]
        }
      ]
    },
    {
      "cell_type": "markdown",
      "source": [
        "#### Conclusion --> With this results we are able to see how close the original and the predicted values were, in this case, very close, by only 0.08."
      ],
      "metadata": {
        "id": "UqGWuZHwUhb0"
      }
    },
    {
      "cell_type": "markdown",
      "source": [
        "## Residuals"
      ],
      "metadata": {
        "id": "M9fcH1M_jl8F"
      }
    },
    {
      "cell_type": "code",
      "source": [
        "RESI_A = resultA.resid\n",
        "RESI_A"
      ],
      "metadata": {
        "colab": {
          "base_uri": "https://localhost:8080/",
          "height": 0
        },
        "id": "Lpfn0Fcmjk9n",
        "outputId": "d711d6a1-205c-44af-cbbe-269b205d3956"
      },
      "execution_count": 29,
      "outputs": [
        {
          "output_type": "execute_result",
          "data": {
            "text/plain": [
              "0     0.097267\n",
              "1    -0.006431\n",
              "2    -0.022058\n",
              "3     0.110663\n",
              "4     0.181755\n",
              "5     0.094269\n",
              "6     0.217797\n",
              "7    -0.189413\n",
              "8    -0.182678\n",
              "9    -0.199825\n",
              "10    0.114196\n",
              "11   -0.006950\n",
              "12    0.152539\n",
              "13   -0.045867\n",
              "14   -0.076221\n",
              "15   -0.101908\n",
              "16   -0.030734\n",
              "17    0.067686\n",
              "18   -0.276207\n",
              "19   -0.045512\n",
              "20   -0.142175\n",
              "21    0.171126\n",
              "22    0.109631\n",
              "23    0.125806\n",
              "24   -0.384444\n",
              "25   -0.060056\n",
              "26   -0.191349\n",
              "27   -0.161411\n",
              "28   -0.080798\n",
              "29    0.114555\n",
              "30   -0.115242\n",
              "31    0.122749\n",
              "32    0.158278\n",
              "33    0.017459\n",
              "34    0.168189\n",
              "35    0.244163\n",
              "36   -0.162563\n",
              "37   -0.073724\n",
              "38    0.090129\n",
              "39    0.142496\n",
              "40    0.113970\n",
              "41    0.101365\n",
              "42   -0.076998\n",
              "43    0.230440\n",
              "44   -0.311288\n",
              "45   -0.026958\n",
              "46   -0.186276\n",
              "47   -0.116258\n",
              "48    0.222244\n",
              "49    0.104572\n",
              "dtype: float64"
            ]
          },
          "metadata": {},
          "execution_count": 29
        }
      ]
    },
    {
      "cell_type": "markdown",
      "source": [
        "## Predicted Values"
      ],
      "metadata": {
        "id": "-EbpZFLJasjJ"
      }
    },
    {
      "cell_type": "code",
      "source": [
        "predicted_values = resultA.fittedvalues.to_frame()\n",
        "predicted_values"
      ],
      "metadata": {
        "colab": {
          "base_uri": "https://localhost:8080/",
          "height": 1617
        },
        "id": "K7SM9nQUjmrx",
        "outputId": "e79abb25-c825-4afb-a756-2e2fe202deb4"
      },
      "execution_count": 30,
      "outputs": [
        {
          "output_type": "execute_result",
          "data": {
            "text/plain": [
              "           0\n",
              "0   0.632733\n",
              "1   0.599431\n",
              "2   0.608058\n",
              "3   0.610337\n",
              "4   0.611245\n",
              "5   0.595731\n",
              "6   0.598203\n",
              "7   0.620413\n",
              "8   0.612678\n",
              "9   0.604825\n",
              "10  0.600804\n",
              "11  0.607950\n",
              "12  0.609461\n",
              "13  0.599867\n",
              "14  0.622221\n",
              "15  0.591908\n",
              "16  0.605734\n",
              "17  0.605314\n",
              "18  0.596207\n",
              "19  0.619512\n",
              "20  0.623175\n",
              "21  0.599874\n",
              "22  0.610369\n",
              "23  0.596194\n",
              "24  0.609444\n",
              "25  0.608056\n",
              "26  0.616349\n",
              "27  0.615411\n",
              "28  0.605798\n",
              "29  0.630445\n",
              "30  0.621242\n",
              "31  0.606251\n",
              "32  0.606722\n",
              "33  0.613541\n",
              "34  0.605811\n",
              "35  0.610837\n",
              "36  0.589563\n",
              "37  0.595724\n",
              "38  0.636871\n",
              "39  0.608504\n",
              "40  0.614030\n",
              "41  0.602635\n",
              "42  0.613998\n",
              "43  0.598560\n",
              "44  0.607288\n",
              "45  0.592958\n",
              "46  0.636276\n",
              "47  0.589258\n",
              "48  0.621756\n",
              "49  0.625428"
            ],
            "text/html": [
              "\n",
              "  <div id=\"df-fd4f122b-5107-46f7-955d-82aa782b96b4\">\n",
              "    <div class=\"colab-df-container\">\n",
              "      <div>\n",
              "<style scoped>\n",
              "    .dataframe tbody tr th:only-of-type {\n",
              "        vertical-align: middle;\n",
              "    }\n",
              "\n",
              "    .dataframe tbody tr th {\n",
              "        vertical-align: top;\n",
              "    }\n",
              "\n",
              "    .dataframe thead th {\n",
              "        text-align: right;\n",
              "    }\n",
              "</style>\n",
              "<table border=\"1\" class=\"dataframe\">\n",
              "  <thead>\n",
              "    <tr style=\"text-align: right;\">\n",
              "      <th></th>\n",
              "      <th>0</th>\n",
              "    </tr>\n",
              "  </thead>\n",
              "  <tbody>\n",
              "    <tr>\n",
              "      <th>0</th>\n",
              "      <td>0.632733</td>\n",
              "    </tr>\n",
              "    <tr>\n",
              "      <th>1</th>\n",
              "      <td>0.599431</td>\n",
              "    </tr>\n",
              "    <tr>\n",
              "      <th>2</th>\n",
              "      <td>0.608058</td>\n",
              "    </tr>\n",
              "    <tr>\n",
              "      <th>3</th>\n",
              "      <td>0.610337</td>\n",
              "    </tr>\n",
              "    <tr>\n",
              "      <th>4</th>\n",
              "      <td>0.611245</td>\n",
              "    </tr>\n",
              "    <tr>\n",
              "      <th>5</th>\n",
              "      <td>0.595731</td>\n",
              "    </tr>\n",
              "    <tr>\n",
              "      <th>6</th>\n",
              "      <td>0.598203</td>\n",
              "    </tr>\n",
              "    <tr>\n",
              "      <th>7</th>\n",
              "      <td>0.620413</td>\n",
              "    </tr>\n",
              "    <tr>\n",
              "      <th>8</th>\n",
              "      <td>0.612678</td>\n",
              "    </tr>\n",
              "    <tr>\n",
              "      <th>9</th>\n",
              "      <td>0.604825</td>\n",
              "    </tr>\n",
              "    <tr>\n",
              "      <th>10</th>\n",
              "      <td>0.600804</td>\n",
              "    </tr>\n",
              "    <tr>\n",
              "      <th>11</th>\n",
              "      <td>0.607950</td>\n",
              "    </tr>\n",
              "    <tr>\n",
              "      <th>12</th>\n",
              "      <td>0.609461</td>\n",
              "    </tr>\n",
              "    <tr>\n",
              "      <th>13</th>\n",
              "      <td>0.599867</td>\n",
              "    </tr>\n",
              "    <tr>\n",
              "      <th>14</th>\n",
              "      <td>0.622221</td>\n",
              "    </tr>\n",
              "    <tr>\n",
              "      <th>15</th>\n",
              "      <td>0.591908</td>\n",
              "    </tr>\n",
              "    <tr>\n",
              "      <th>16</th>\n",
              "      <td>0.605734</td>\n",
              "    </tr>\n",
              "    <tr>\n",
              "      <th>17</th>\n",
              "      <td>0.605314</td>\n",
              "    </tr>\n",
              "    <tr>\n",
              "      <th>18</th>\n",
              "      <td>0.596207</td>\n",
              "    </tr>\n",
              "    <tr>\n",
              "      <th>19</th>\n",
              "      <td>0.619512</td>\n",
              "    </tr>\n",
              "    <tr>\n",
              "      <th>20</th>\n",
              "      <td>0.623175</td>\n",
              "    </tr>\n",
              "    <tr>\n",
              "      <th>21</th>\n",
              "      <td>0.599874</td>\n",
              "    </tr>\n",
              "    <tr>\n",
              "      <th>22</th>\n",
              "      <td>0.610369</td>\n",
              "    </tr>\n",
              "    <tr>\n",
              "      <th>23</th>\n",
              "      <td>0.596194</td>\n",
              "    </tr>\n",
              "    <tr>\n",
              "      <th>24</th>\n",
              "      <td>0.609444</td>\n",
              "    </tr>\n",
              "    <tr>\n",
              "      <th>25</th>\n",
              "      <td>0.608056</td>\n",
              "    </tr>\n",
              "    <tr>\n",
              "      <th>26</th>\n",
              "      <td>0.616349</td>\n",
              "    </tr>\n",
              "    <tr>\n",
              "      <th>27</th>\n",
              "      <td>0.615411</td>\n",
              "    </tr>\n",
              "    <tr>\n",
              "      <th>28</th>\n",
              "      <td>0.605798</td>\n",
              "    </tr>\n",
              "    <tr>\n",
              "      <th>29</th>\n",
              "      <td>0.630445</td>\n",
              "    </tr>\n",
              "    <tr>\n",
              "      <th>30</th>\n",
              "      <td>0.621242</td>\n",
              "    </tr>\n",
              "    <tr>\n",
              "      <th>31</th>\n",
              "      <td>0.606251</td>\n",
              "    </tr>\n",
              "    <tr>\n",
              "      <th>32</th>\n",
              "      <td>0.606722</td>\n",
              "    </tr>\n",
              "    <tr>\n",
              "      <th>33</th>\n",
              "      <td>0.613541</td>\n",
              "    </tr>\n",
              "    <tr>\n",
              "      <th>34</th>\n",
              "      <td>0.605811</td>\n",
              "    </tr>\n",
              "    <tr>\n",
              "      <th>35</th>\n",
              "      <td>0.610837</td>\n",
              "    </tr>\n",
              "    <tr>\n",
              "      <th>36</th>\n",
              "      <td>0.589563</td>\n",
              "    </tr>\n",
              "    <tr>\n",
              "      <th>37</th>\n",
              "      <td>0.595724</td>\n",
              "    </tr>\n",
              "    <tr>\n",
              "      <th>38</th>\n",
              "      <td>0.636871</td>\n",
              "    </tr>\n",
              "    <tr>\n",
              "      <th>39</th>\n",
              "      <td>0.608504</td>\n",
              "    </tr>\n",
              "    <tr>\n",
              "      <th>40</th>\n",
              "      <td>0.614030</td>\n",
              "    </tr>\n",
              "    <tr>\n",
              "      <th>41</th>\n",
              "      <td>0.602635</td>\n",
              "    </tr>\n",
              "    <tr>\n",
              "      <th>42</th>\n",
              "      <td>0.613998</td>\n",
              "    </tr>\n",
              "    <tr>\n",
              "      <th>43</th>\n",
              "      <td>0.598560</td>\n",
              "    </tr>\n",
              "    <tr>\n",
              "      <th>44</th>\n",
              "      <td>0.607288</td>\n",
              "    </tr>\n",
              "    <tr>\n",
              "      <th>45</th>\n",
              "      <td>0.592958</td>\n",
              "    </tr>\n",
              "    <tr>\n",
              "      <th>46</th>\n",
              "      <td>0.636276</td>\n",
              "    </tr>\n",
              "    <tr>\n",
              "      <th>47</th>\n",
              "      <td>0.589258</td>\n",
              "    </tr>\n",
              "    <tr>\n",
              "      <th>48</th>\n",
              "      <td>0.621756</td>\n",
              "    </tr>\n",
              "    <tr>\n",
              "      <th>49</th>\n",
              "      <td>0.625428</td>\n",
              "    </tr>\n",
              "  </tbody>\n",
              "</table>\n",
              "</div>\n",
              "      <button class=\"colab-df-convert\" onclick=\"convertToInteractive('df-fd4f122b-5107-46f7-955d-82aa782b96b4')\"\n",
              "              title=\"Convert this dataframe to an interactive table.\"\n",
              "              style=\"display:none;\">\n",
              "        \n",
              "  <svg xmlns=\"http://www.w3.org/2000/svg\" height=\"24px\"viewBox=\"0 0 24 24\"\n",
              "       width=\"24px\">\n",
              "    <path d=\"M0 0h24v24H0V0z\" fill=\"none\"/>\n",
              "    <path d=\"M18.56 5.44l.94 2.06.94-2.06 2.06-.94-2.06-.94-.94-2.06-.94 2.06-2.06.94zm-11 1L8.5 8.5l.94-2.06 2.06-.94-2.06-.94L8.5 2.5l-.94 2.06-2.06.94zm10 10l.94 2.06.94-2.06 2.06-.94-2.06-.94-.94-2.06-.94 2.06-2.06.94z\"/><path d=\"M17.41 7.96l-1.37-1.37c-.4-.4-.92-.59-1.43-.59-.52 0-1.04.2-1.43.59L10.3 9.45l-7.72 7.72c-.78.78-.78 2.05 0 2.83L4 21.41c.39.39.9.59 1.41.59.51 0 1.02-.2 1.41-.59l7.78-7.78 2.81-2.81c.8-.78.8-2.07 0-2.86zM5.41 20L4 18.59l7.72-7.72 1.47 1.35L5.41 20z\"/>\n",
              "  </svg>\n",
              "      </button>\n",
              "      \n",
              "  <style>\n",
              "    .colab-df-container {\n",
              "      display:flex;\n",
              "      flex-wrap:wrap;\n",
              "      gap: 12px;\n",
              "    }\n",
              "\n",
              "    .colab-df-convert {\n",
              "      background-color: #E8F0FE;\n",
              "      border: none;\n",
              "      border-radius: 50%;\n",
              "      cursor: pointer;\n",
              "      display: none;\n",
              "      fill: #1967D2;\n",
              "      height: 32px;\n",
              "      padding: 0 0 0 0;\n",
              "      width: 32px;\n",
              "    }\n",
              "\n",
              "    .colab-df-convert:hover {\n",
              "      background-color: #E2EBFA;\n",
              "      box-shadow: 0px 1px 2px rgba(60, 64, 67, 0.3), 0px 1px 3px 1px rgba(60, 64, 67, 0.15);\n",
              "      fill: #174EA6;\n",
              "    }\n",
              "\n",
              "    [theme=dark] .colab-df-convert {\n",
              "      background-color: #3B4455;\n",
              "      fill: #D2E3FC;\n",
              "    }\n",
              "\n",
              "    [theme=dark] .colab-df-convert:hover {\n",
              "      background-color: #434B5C;\n",
              "      box-shadow: 0px 1px 3px 1px rgba(0, 0, 0, 0.15);\n",
              "      filter: drop-shadow(0px 1px 2px rgba(0, 0, 0, 0.3));\n",
              "      fill: #FFFFFF;\n",
              "    }\n",
              "  </style>\n",
              "\n",
              "      <script>\n",
              "        const buttonEl =\n",
              "          document.querySelector('#df-fd4f122b-5107-46f7-955d-82aa782b96b4 button.colab-df-convert');\n",
              "        buttonEl.style.display =\n",
              "          google.colab.kernel.accessAllowed ? 'block' : 'none';\n",
              "\n",
              "        async function convertToInteractive(key) {\n",
              "          const element = document.querySelector('#df-fd4f122b-5107-46f7-955d-82aa782b96b4');\n",
              "          const dataTable =\n",
              "            await google.colab.kernel.invokeFunction('convertToInteractive',\n",
              "                                                     [key], {});\n",
              "          if (!dataTable) return;\n",
              "\n",
              "          const docLinkHtml = 'Like what you see? Visit the ' +\n",
              "            '<a target=\"_blank\" href=https://colab.research.google.com/notebooks/data_table.ipynb>data table notebook</a>'\n",
              "            + ' to learn more about interactive tables.';\n",
              "          element.innerHTML = '';\n",
              "          dataTable['output_type'] = 'display_data';\n",
              "          await google.colab.output.renderOutput(dataTable, element);\n",
              "          const docLink = document.createElement('div');\n",
              "          docLink.innerHTML = docLinkHtml;\n",
              "          element.appendChild(docLink);\n",
              "        }\n",
              "      </script>\n",
              "    </div>\n",
              "  </div>\n",
              "  "
            ]
          },
          "metadata": {},
          "execution_count": 30
        }
      ]
    },
    {
      "cell_type": "markdown",
      "source": [
        "#### Conclusion --> with these two tables \"Residuals\" and \"Predicted Values\" we are able to graph and see if there is a pattern"
      ],
      "metadata": {
        "id": "no_4W4uQj7ty"
      }
    },
    {
      "cell_type": "markdown",
      "source": [
        "### Can the predicted values and residuals be seen in a graph?\""
      ],
      "metadata": {
        "id": "B8H4sNyMj-A8"
      }
    },
    {
      "cell_type": "code",
      "source": [
        "plt.figure(figsize= (12,10))\n",
        "sns.set(font_scale = 1.5)\n",
        "ab = sns.regplot(x = predicted_values,\n",
        "                 y = RESI_A, \n",
        "                 data = df,\n",
        "                 color = 'fuchsia',\n",
        "                 marker = '+',\n",
        "                 scatter_kws = {'s':100}\n",
        "                )\n",
        "\n",
        "ab.set(xlabel ='Predicted Values',\n",
        "       ylabel = 'Residuals')\n",
        "\n",
        "\n",
        "ab.set_title('Residual plot of Predicted Values vs Residuals')\n",
        "plt.show()"
      ],
      "metadata": {
        "colab": {
          "base_uri": "https://localhost:8080/",
          "height": 644
        },
        "id": "khPDjQUajqQM",
        "outputId": "dbbb4014-5ac7-4778-dcd9-4e7d4edf6711"
      },
      "execution_count": 32,
      "outputs": [
        {
          "output_type": "display_data",
          "data": {
            "text/plain": [
              "<Figure size 864x720 with 1 Axes>"
            ],
            "image/png": "[encoded data removed]"
          },
          "metadata": {}
        }
      ]
    },
    {
      "cell_type": "markdown",
      "source": [
        "#### Conclusion --> We can see in the graph that the CONTINUOUS LINE is the one that represents the adjusted values, it doesn't seem that there is any pattern in the graph."
      ],
      "metadata": {
        "id": "hi8D0YcnkD0I"
      }
    },
    {
      "cell_type": "code",
      "source": [
        "import plotly.express as px"
      ],
      "metadata": {
        "id": "wU9-cnLGj_pv"
      },
      "execution_count": 45,
      "outputs": []
    },
    {
      "cell_type": "markdown",
      "source": [
        "##Is it posible to reprensent the data in a pie chart, with more than one variable?"
      ],
      "metadata": {
        "id": "MceAJ27TVOEh"
      }
    },
    {
      "cell_type": "code",
      "source": [
        "fig = px.sunburst(df,\n",
        "                  values = 'energy',\n",
        "                  path = ['genre','album'],\n",
        "                  color = 'genre',\n",
        "                  #title = 'Number of respondents by AgeGroup and Gender'\n",
        "                  )\n",
        "fig.show()"
      ],
      "metadata": {
        "colab": {
          "base_uri": "https://localhost:8080/",
          "height": 542
        },
        "id": "xgP5BbwzkKBe",
        "outputId": "8c519270-7b78-4bd5-c38f-6d99265151d4"
      },
      "execution_count": 46,
      "outputs": [
        {
          "output_type": "display_data",
          "data": {
            "text/html": [
              "<html>\n",
              "<head><meta charset=\"utf-8\" /></head>\n",
              "<body>\n",
              "    <div>            <script src=\"https://cdnjs.cloudflare.com/ajax/libs/mathjax/2.7.5/MathJax.js?config=TeX-AMS-MML_SVG\"></script><script type=\"text/javascript\">if (window.MathJax) {MathJax.Hub.Config({SVG: {font: \"STIX-Web\"}});}</script>                <script type=\"text/javascript\">window.PlotlyConfig = {MathJaxConfig: 'local'};</script>\n",
              "        <script src=\"https://cdn.plot.ly/plotly-2.8.3.min.js\"></script>                <div id=\"939f7ad1-dfa4-4944-9bd6-1267c224c2da\" class=\"plotly-graph-div\" style=\"height:525px; width:100%;\"></div>            <script type=\"text/javascript\">                                    window.PLOTLYENV=window.PLOTLYENV || {};                                    if (document.getElementById(\"939f7ad1-dfa4-4944-9bd6-1267c224c2da\")) {                    Plotly.newPlot(                        \"939f7ad1-dfa4-4944-9bd6-1267c224c2da\",                        [{\"branchvalues\":\"total\",\"customdata\":[[\"R&B/Hip-Hop alternative\"],[\"Pop rap\"],[\"Hip-Hop/Rap\"],[\"R&B/Soul\"],[\"Dance/Electronic\"],[\"Nu-disco\"],[\"Alternative/reggaeton/experimental\"],[\"Hip-Hop/Rap\"],[\"Hip-Hop/Rap\"],[\"Hip-Hop/Rap\"],[\"Hip-Hop/Rap\"],[\" Electro-pop\"],[\"Pop\"],[\"Pop/Soft Rock\"],[\"Dance/Electronic\"],[\"Hip-Hop/Rap\"],[\"Alternative/Indie\"],[\"Pop\"],[\"Hip-Hop/Trap\"],[\"Hip-Hop/Rap\"],[\" Electro-pop\"],[\"Dance/Electronic\"],[\"Pop\"],[\"Alternative/Indie\"],[\"Pop\"],[\"Hip-Hop/Rap\"],[\"Hip-Hop/Rap\"],[\"Alternative/Indie\"],[\"Pop\"],[\"Hip-Hop/Rap\"],[\"Dance/Electronic\"],[\" Electro-pop\"],[\"Pop\"],[\"Pop\"],[\"Dance/Electronic\"],[\"Chamber pop\"],[\"Pop\"],[\"Hip-Hop/Rap\"],[\"Pop\"],[\"Dreampop/Hip-Hop/R&B\"],[\"Hip-Hop/Rap\"],[\"Dance-pop/Disco\"],[\"Alternative/Indie\"],[\"Pop\"],[\"Pop\"],[\"R&B/Soul\"],[\"Disco-pop\"],[\"Alternative/Indie\"],[\"Pop\"],[\"Hip-Hop/Rap\"],[\"Alternative/reggaeton/experimental\"],[\"Chamber pop\"],[\"Dance-pop/Disco\"],[\"Dance/Electronic\"],[\"Disco-pop\"],[\"Dreampop/Hip-Hop/R&B\"],[\"Hip-Hop/Rap\"],[\"Hip-Hop/Trap\"],[\"Nu-disco\"],[\"Pop\"],[\"Pop rap\"],[\"Pop/Soft Rock\"],[\"R&B/Hip-Hop alternative\"],[\"R&B/Soul\"]],\"domain\":{\"x\":[0.0,1.0],\"y\":[0.0,1.0]},\"hovertemplate\":\"labels=%{label}<br>energy=%{value}<br>parent=%{parent}<br>id=%{id}<br>genre=%{customdata[0]}<extra></extra>\",\"ids\":[\"R&B/Hip-Hop alternative/Nicotine\",\"Pop rap/Mood (feat. iann dior)\",\"Hip-Hop/Rap/Dark Lane Demo Tapes\",\"R&B/Soul/After Hours\",\"Dance/Electronic/Roses (Imanbek Remix)\",\"Nu-disco/Future Nostalgia\",\"Alternative/reggaeton/experimental/YHLQMDLG\",\"Hip-Hop/Rap/death bed (coffee for your head)\",\"Hip-Hop/Rap/ROXANNE\",\"Hip-Hop/Rap/Birds In The Trap Sing McKnight\",\"Hip-Hop/Rap/Savage Love (Laxed - Siren Beat)\",\" Electro-pop\",\"Pop/Tusa\",\"Pop/Soft Rock/Hollywood's Bleeding\",\"Dance/Electronic/Ride It\",\"Hip-Hop/Rap/THE SCOTTS\",\"Alternative/Indie\",\"Pop/PAPI JUANCHO\",\"Hip-Hop/Trap/WAP (feat. Megan Thee Stallion)\",\"Hip-Hop/Rap/High Off Life\",\" Electro-pop/Where the Light Is\",\"Dance/Electronic/Future Nostalgia\",\"Pop/Fine Line\",\"Alternative/Indie/Divinely Uninspired To A Hellish Extent (Extended Edition)\",\"Pop/Chromatica\",\"Hip-Hop/Rap/Certified Hitmaker\",\"Hip-Hop/Rap/BLAME IT ON BABY\",\"Alternative/Indie/Hey u x\",\"Pop/Stuck with U\",\"Hip-Hop/Rap/Music To Be Murdered By\",\"Dance/Electronic/Breaking Me\",\" Electro-pop/WHEN WE ALL FALL ASLEEP, WHERE DO WE GO?\",\"Pop/Translation\",\"Pop/everything i wanted\",\"Dance/Electronic/ily (i love you baby) (feat. Emilee)\",\"Chamber pop/lovely (with Khalid)\",\"Pop/If the World Was Ending (feat. Julia Michaels)\",\"Hip-Hop/Rap/Please Excuse Me For Being Antisocial\",\"Pop/Memories\",\"Dreampop/Hip-Hop/R&B/Hollywood's Bleeding\",\"Hip-Hop/Rap/HIGHEST IN THE ROOM\",\"Dance-pop/Disco/Future Nostalgia\",\"Alternative/Indie/Divinely Uninspired To A Hellish Extent\",\"Pop/Changes\",\"Pop/Shawn Mendes (Deluxe)\",\"R&B/Soul/Hot Pink\",\"Disco-pop/Dynamite (DayTime Version)\",\"Alternative/Indie/Dance Monkey\",\"Pop/Goodbye & Good Riddance\",\"Hip-Hop/Rap/ASTROWORLD\",\"Alternative/reggaeton/experimental\",\"Chamber pop\",\"Dance-pop/Disco\",\"Dance/Electronic\",\"Disco-pop\",\"Dreampop/Hip-Hop/R&B\",\"Hip-Hop/Rap\",\"Hip-Hop/Trap\",\"Nu-disco\",\"Pop\",\"Pop rap\",\"Pop/Soft Rock\",\"R&B/Hip-Hop alternative\",\"R&B/Soul\"],\"labels\":[\"Nicotine\",\"Mood (feat. iann dior)\",\"Dark Lane Demo Tapes\",\"After Hours\",\"Roses (Imanbek Remix)\",\"Future Nostalgia\",\"YHLQMDLG\",\"death bed (coffee for your head)\",\"ROXANNE\",\"Birds In The Trap Sing McKnight\",\"Savage Love (Laxed - Siren Beat)\",\" Electro-pop\",\"Tusa\",\"Hollywood's Bleeding\",\"Ride It\",\"THE SCOTTS\",\"Alternative/Indie\",\"PAPI JUANCHO\",\"WAP (feat. Megan Thee Stallion)\",\"High Off Life\",\"Where the Light Is\",\"Future Nostalgia\",\"Fine Line\",\"Divinely Uninspired To A Hellish Extent (Extended Edition)\",\"Chromatica\",\"Certified Hitmaker\",\"BLAME IT ON BABY\",\"Hey u x\",\"Stuck with U\",\"Music To Be Murdered By\",\"Breaking Me\",\"WHEN WE ALL FALL ASLEEP, WHERE DO WE GO?\",\"Translation\",\"everything i wanted\",\"ily (i love you baby) (feat. Emilee)\",\"lovely (with Khalid)\",\"If the World Was Ending (feat. Julia Michaels)\",\"Please Excuse Me For Being Antisocial\",\"Memories\",\"Hollywood's Bleeding\",\"HIGHEST IN THE ROOM\",\"Future Nostalgia\",\"Divinely Uninspired To A Hellish Extent\",\"Changes\",\"Shawn Mendes (Deluxe)\",\"Hot Pink\",\"Dynamite (DayTime Version)\",\"Dance Monkey\",\"Goodbye & Good Riddance\",\"ASTROWORLD\",\"Alternative/reggaeton/experimental\",\"Chamber pop\",\"Dance-pop/Disco\",\"Dance/Electronic\",\"Disco-pop\",\"Dreampop/Hip-Hop/R&B\",\"Hip-Hop/Rap\",\"Hip-Hop/Trap\",\"Nu-disco\",\"Pop\",\"Pop rap\",\"Pop/Soft Rock\",\"R&B/Hip-Hop alternative\",\"R&B/Soul\"],\"marker\":{\"colors\":[\"#636efa\",\"#EF553B\",\"#00cc96\",\"#ab63fa\",\"#FFA15A\",\"#19d3f3\",\"#FF6692\",\"#00cc96\",\"#00cc96\",\"#00cc96\",\"#00cc96\",\"#B6E880\",\"#FF97FF\",\"#FECB52\",\"#FFA15A\",\"#00cc96\",\"#636efa\",\"#FF97FF\",\"#EF553B\",\"#00cc96\",\"#B6E880\",\"#FFA15A\",\"#FF97FF\",\"#636efa\",\"#FF97FF\",\"#00cc96\",\"#00cc96\",\"#636efa\",\"#FF97FF\",\"#00cc96\",\"#FFA15A\",\"#B6E880\",\"#FF97FF\",\"#FF97FF\",\"#FFA15A\",\"#00cc96\",\"#FF97FF\",\"#00cc96\",\"#FF97FF\",\"#ab63fa\",\"#00cc96\",\"#FFA15A\",\"#636efa\",\"#FF97FF\",\"#FF97FF\",\"#ab63fa\",\"#19d3f3\",\"#636efa\",\"#FF97FF\",\"#00cc96\",\"#FF6692\",\"#00cc96\",\"#FFA15A\",\"#FFA15A\",\"#19d3f3\",\"#ab63fa\",\"#00cc96\",\"#EF553B\",\"#19d3f3\",\"#FF97FF\",\"#EF553B\",\"#FECB52\",\"#636efa\",\"#ab63fa\"]},\"name\":\"\",\"parents\":[\"R&B/Hip-Hop alternative\",\"Pop rap\",\"Hip-Hop/Rap\",\"R&B/Soul\",\"Dance/Electronic\",\"Nu-disco\",\"Alternative/reggaeton/experimental\",\"Hip-Hop/Rap\",\"Hip-Hop/Rap\",\"Hip-Hop/Rap\",\"Hip-Hop/Rap\",\"\",\"Pop\",\"Pop/Soft Rock\",\"Dance/Electronic\",\"Hip-Hop/Rap\",\"\",\"Pop\",\"Hip-Hop/Trap\",\"Hip-Hop/Rap\",\" Electro-pop\",\"Dance/Electronic\",\"Pop\",\"Alternative/Indie\",\"Pop\",\"Hip-Hop/Rap\",\"Hip-Hop/Rap\",\"Alternative/Indie\",\"Pop\",\"Hip-Hop/Rap\",\"Dance/Electronic\",\" Electro-pop\",\"Pop\",\"Pop\",\"Dance/Electronic\",\"Chamber pop\",\"Pop\",\"Hip-Hop/Rap\",\"Pop\",\"Dreampop/Hip-Hop/R&B\",\"Hip-Hop/Rap\",\"Dance-pop/Disco\",\"Alternative/Indie\",\"Pop\",\"Pop\",\"R&B/Soul\",\"Disco-pop\",\"Alternative/Indie\",\"Pop\",\"Hip-Hop/Rap\",\"\",\"\",\"\",\"\",\"\",\"\",\"\",\"\",\"\",\"\",\"\",\"\",\"\",\"\"],\"values\":[0.43,0.722,0.49,0.73,0.721,0.793,0.829,0.431,0.601,0.728,0.481,0.95,0.715,0.762,0.751,0.537,2.2039999999999997,0.727,0.454,0.574,0.525,0.844,1.587,0.575,0.855,0.554,0.69,0.631,0.45,0.745,0.72,0.425,0.704,0.225,0.774,0.296,0.473,0.586,0.32,0.522,0.427,0.729,0.405,1.052,0.548,0.673,0.765,0.593,0.566,0.73,0.829,0.296,0.729,3.81,0.765,0.522,7.574,0.454,0.793,8.222,0.722,0.762,0.43,1.403],\"type\":\"sunburst\"}],                        {\"template\":{\"data\":{\"bar\":[{\"error_x\":{\"color\":\"#2a3f5f\"},\"error_y\":{\"color\":\"#2a3f5f\"},\"marker\":{\"line\":{\"color\":\"#E5ECF6\",\"width\":0.5},\"pattern\":{\"fillmode\":\"overlay\",\"size\":10,\"solidity\":0.2}},\"type\":\"bar\"}],\"barpolar\":[{\"marker\":{\"line\":{\"color\":\"#E5ECF6\",\"width\":0.5},\"pattern\":{\"fillmode\":\"overlay\",\"size\":10,\"solidity\":0.2}},\"type\":\"barpolar\"}],\"carpet\":[{\"aaxis\":{\"endlinecolor\":\"#2a3f5f\",\"gridcolor\":\"white\",\"linecolor\":\"white\",\"minorgridcolor\":\"white\",\"startlinecolor\":\"#2a3f5f\"},\"baxis\":{\"endlinecolor\":\"#2a3f5f\",\"gridcolor\":\"white\",\"linecolor\":\"white\",\"minorgridcolor\":\"white\",\"startlinecolor\":\"#2a3f5f\"},\"type\":\"carpet\"}],\"choropleth\":[{\"colorbar\":{\"outlinewidth\":0,\"ticks\":\"\"},\"type\":\"choropleth\"}],\"contour\":[{\"colorbar\":{\"outlinewidth\":0,\"ticks\":\"\"},\"colorscale\":[[0.0,\"#0d0887\"],[0.1111111111111111,\"#46039f\"],[0.2222222222222222,\"#7201a8\"],[0.3333333333333333,\"#9c179e\"],[0.4444444444444444,\"#bd3786\"],[0.5555555555555556,\"#d8576b\"],[0.6666666666666666,\"#ed7953\"],[0.7777777777777778,\"#fb9f3a\"],[0.8888888888888888,\"#fdca26\"],[1.0,\"#f0f921\"]],\"type\":\"contour\"}],\"contourcarpet\":[{\"colorbar\":{\"outlinewidth\":0,\"ticks\":\"\"},\"type\":\"contourcarpet\"}],\"heatmap\":[{\"colorbar\":{\"outlinewidth\":0,\"ticks\":\"\"},\"colorscale\":[[0.0,\"#0d0887\"],[0.1111111111111111,\"#46039f\"],[0.2222222222222222,\"#7201a8\"],[0.3333333333333333,\"#9c179e\"],[0.4444444444444444,\"#bd3786\"],[0.5555555555555556,\"#d8576b\"],[0.6666666666666666,\"#ed7953\"],[0.7777777777777778,\"#fb9f3a\"],[0.8888888888888888,\"#fdca26\"],[1.0,\"#f0f921\"]],\"type\":\"heatmap\"}],\"heatmapgl\":[{\"colorbar\":{\"outlinewidth\":0,\"ticks\":\"\"},\"colorscale\":[[0.0,\"#0d0887\"],[0.1111111111111111,\"#46039f\"],[0.2222222222222222,\"#7201a8\"],[0.3333333333333333,\"#9c179e\"],[0.4444444444444444,\"#bd3786\"],[0.5555555555555556,\"#d8576b\"],[0.6666666666666666,\"#ed7953\"],[0.7777777777777778,\"#fb9f3a\"],[0.8888888888888888,\"#fdca26\"],[1.0,\"#f0f921\"]],\"type\":\"heatmapgl\"}],\"histogram\":[{\"marker\":{\"pattern\":{\"fillmode\":\"overlay\",\"size\":10,\"solidity\":0.2}},\"type\":\"histogram\"}],\"histogram2d\":[{\"colorbar\":{\"outlinewidth\":0,\"ticks\":\"\"},\"colorscale\":[[0.0,\"#0d0887\"],[0.1111111111111111,\"#46039f\"],[0.2222222222222222,\"#7201a8\"],[0.3333333333333333,\"#9c179e\"],[0.4444444444444444,\"#bd3786\"],[0.5555555555555556,\"#d8576b\"],[0.6666666666666666,\"#ed7953\"],[0.7777777777777778,\"#fb9f3a\"],[0.8888888888888888,\"#fdca26\"],[1.0,\"#f0f921\"]],\"type\":\"histogram2d\"}],\"histogram2dcontour\":[{\"colorbar\":{\"outlinewidth\":0,\"ticks\":\"\"},\"colorscale\":[[0.0,\"#0d0887\"],[0.1111111111111111,\"#46039f\"],[0.2222222222222222,\"#7201a8\"],[0.3333333333333333,\"#9c179e\"],[0.4444444444444444,\"#bd3786\"],[0.5555555555555556,\"#d8576b\"],[0.6666666666666666,\"#ed7953\"],[0.7777777777777778,\"#fb9f3a\"],[0.8888888888888888,\"#fdca26\"],[1.0,\"#f0f921\"]],\"type\":\"histogram2dcontour\"}],\"mesh3d\":[{\"colorbar\":{\"outlinewidth\":0,\"ticks\":\"\"},\"type\":\"mesh3d\"}],\"parcoords\":[{\"line\":{\"colorbar\":{\"outlinewidth\":0,\"ticks\":\"\"}},\"type\":\"parcoords\"}],\"pie\":[{\"automargin\":true,\"type\":\"pie\"}],\"scatter\":[{\"marker\":{\"colorbar\":{\"outlinewidth\":0,\"ticks\":\"\"}},\"type\":\"scatter\"}],\"scatter3d\":[{\"line\":{\"colorbar\":{\"outlinewidth\":0,\"ticks\":\"\"}},\"marker\":{\"colorbar\":{\"outlinewidth\":0,\"ticks\":\"\"}},\"type\":\"scatter3d\"}],\"scattercarpet\":[{\"marker\":{\"colorbar\":{\"outlinewidth\":0,\"ticks\":\"\"}},\"type\":\"scattercarpet\"}],\"scattergeo\":[{\"marker\":{\"colorbar\":{\"outlinewidth\":0,\"ticks\":\"\"}},\"type\":\"scattergeo\"}],\"scattergl\":[{\"marker\":{\"colorbar\":{\"outlinewidth\":0,\"ticks\":\"\"}},\"type\":\"scattergl\"}],\"scattermapbox\":[{\"marker\":{\"colorbar\":{\"outlinewidth\":0,\"ticks\":\"\"}},\"type\":\"scattermapbox\"}],\"scatterpolar\":[{\"marker\":{\"colorbar\":{\"outlinewidth\":0,\"ticks\":\"\"}},\"type\":\"scatterpolar\"}],\"scatterpolargl\":[{\"marker\":{\"colorbar\":{\"outlinewidth\":0,\"ticks\":\"\"}},\"type\":\"scatterpolargl\"}],\"scatterternary\":[{\"marker\":{\"colorbar\":{\"outlinewidth\":0,\"ticks\":\"\"}},\"type\":\"scatterternary\"}],\"surface\":[{\"colorbar\":{\"outlinewidth\":0,\"ticks\":\"\"},\"colorscale\":[[0.0,\"#0d0887\"],[0.1111111111111111,\"#46039f\"],[0.2222222222222222,\"#7201a8\"],[0.3333333333333333,\"#9c179e\"],[0.4444444444444444,\"#bd3786\"],[0.5555555555555556,\"#d8576b\"],[0.6666666666666666,\"#ed7953\"],[0.7777777777777778,\"#fb9f3a\"],[0.8888888888888888,\"#fdca26\"],[1.0,\"#f0f921\"]],\"type\":\"surface\"}],\"table\":[{\"cells\":{\"fill\":{\"color\":\"#EBF0F8\"},\"line\":{\"color\":\"white\"}},\"header\":{\"fill\":{\"color\":\"#C8D4E3\"},\"line\":{\"color\":\"white\"}},\"type\":\"table\"}]},\"layout\":{\"annotationdefaults\":{\"arrowcolor\":\"#2a3f5f\",\"arrowhead\":0,\"arrowwidth\":1},\"autotypenumbers\":\"strict\",\"coloraxis\":{\"colorbar\":{\"outlinewidth\":0,\"ticks\":\"\"}},\"colorscale\":{\"diverging\":[[0,\"#8e0152\"],[0.1,\"#c51b7d\"],[0.2,\"#de77ae\"],[0.3,\"#f1b6da\"],[0.4,\"#fde0ef\"],[0.5,\"#f7f7f7\"],[0.6,\"#e6f5d0\"],[0.7,\"#b8e186\"],[0.8,\"#7fbc41\"],[0.9,\"#4d9221\"],[1,\"#276419\"]],\"sequential\":[[0.0,\"#0d0887\"],[0.1111111111111111,\"#46039f\"],[0.2222222222222222,\"#7201a8\"],[0.3333333333333333,\"#9c179e\"],[0.4444444444444444,\"#bd3786\"],[0.5555555555555556,\"#d8576b\"],[0.6666666666666666,\"#ed7953\"],[0.7777777777777778,\"#fb9f3a\"],[0.8888888888888888,\"#fdca26\"],[1.0,\"#f0f921\"]],\"sequentialminus\":[[0.0,\"#0d0887\"],[0.1111111111111111,\"#46039f\"],[0.2222222222222222,\"#7201a8\"],[0.3333333333333333,\"#9c179e\"],[0.4444444444444444,\"#bd3786\"],[0.5555555555555556,\"#d8576b\"],[0.6666666666666666,\"#ed7953\"],[0.7777777777777778,\"#fb9f3a\"],[0.8888888888888888,\"#fdca26\"],[1.0,\"#f0f921\"]]},\"colorway\":[\"#636efa\",\"#EF553B\",\"#00cc96\",\"#ab63fa\",\"#FFA15A\",\"#19d3f3\",\"#FF6692\",\"#B6E880\",\"#FF97FF\",\"#FECB52\"],\"font\":{\"color\":\"#2a3f5f\"},\"geo\":{\"bgcolor\":\"white\",\"lakecolor\":\"white\",\"landcolor\":\"#E5ECF6\",\"showlakes\":true,\"showland\":true,\"subunitcolor\":\"white\"},\"hoverlabel\":{\"align\":\"left\"},\"hovermode\":\"closest\",\"mapbox\":{\"style\":\"light\"},\"paper_bgcolor\":\"white\",\"plot_bgcolor\":\"#E5ECF6\",\"polar\":{\"angularaxis\":{\"gridcolor\":\"white\",\"linecolor\":\"white\",\"ticks\":\"\"},\"bgcolor\":\"#E5ECF6\",\"radialaxis\":{\"gridcolor\":\"white\",\"linecolor\":\"white\",\"ticks\":\"\"}},\"scene\":{\"xaxis\":{\"backgroundcolor\":\"#E5ECF6\",\"gridcolor\":\"white\",\"gridwidth\":2,\"linecolor\":\"white\",\"showbackground\":true,\"ticks\":\"\",\"zerolinecolor\":\"white\"},\"yaxis\":{\"backgroundcolor\":\"#E5ECF6\",\"gridcolor\":\"white\",\"gridwidth\":2,\"linecolor\":\"white\",\"showbackground\":true,\"ticks\":\"\",\"zerolinecolor\":\"white\"},\"zaxis\":{\"backgroundcolor\":\"#E5ECF6\",\"gridcolor\":\"white\",\"gridwidth\":2,\"linecolor\":\"white\",\"showbackground\":true,\"ticks\":\"\",\"zerolinecolor\":\"white\"}},\"shapedefaults\":{\"line\":{\"color\":\"#2a3f5f\"}},\"ternary\":{\"aaxis\":{\"gridcolor\":\"white\",\"linecolor\":\"white\",\"ticks\":\"\"},\"baxis\":{\"gridcolor\":\"white\",\"linecolor\":\"white\",\"ticks\":\"\"},\"bgcolor\":\"#E5ECF6\",\"caxis\":{\"gridcolor\":\"white\",\"linecolor\":\"white\",\"ticks\":\"\"}},\"title\":{\"x\":0.05},\"xaxis\":{\"automargin\":true,\"gridcolor\":\"white\",\"linecolor\":\"white\",\"ticks\":\"\",\"title\":{\"standoff\":15},\"zerolinecolor\":\"white\",\"zerolinewidth\":2},\"yaxis\":{\"automargin\":true,\"gridcolor\":\"white\",\"linecolor\":\"white\",\"ticks\":\"\",\"title\":{\"standoff\":15},\"zerolinecolor\":\"white\",\"zerolinewidth\":2}}},\"legend\":{\"tracegroupgap\":0},\"margin\":{\"t\":60}},                        {\"responsive\": true}                    ).then(function(){\n",
              "                            \n",
              "var gd = document.getElementById('939f7ad1-dfa4-4944-9bd6-1267c224c2da');\n",
              "var x = new MutationObserver(function (mutations, observer) {{\n",
              "        var display = window.getComputedStyle(gd).display;\n",
              "        if (!display || display === 'none') {{\n",
              "            console.log([gd, 'removed!']);\n",
              "            Plotly.purge(gd);\n",
              "            observer.disconnect();\n",
              "        }}\n",
              "}});\n",
              "\n",
              "// Listen for the removal of the full notebook cells\n",
              "var notebookContainer = gd.closest('#notebook-container');\n",
              "if (notebookContainer) {{\n",
              "    x.observe(notebookContainer, {childList: true});\n",
              "}}\n",
              "\n",
              "// Listen for the clearing of the current output cell\n",
              "var outputEl = gd.closest('.output');\n",
              "if (outputEl) {{\n",
              "    x.observe(outputEl, {childList: true});\n",
              "}}\n",
              "\n",
              "                        })                };                            </script>        </div>\n",
              "</body>\n",
              "</html>"
            ]
          },
          "metadata": {}
        }
      ]
    },
    {
      "cell_type": "markdown",
      "source": [
        "### Conclusion --> Using a suburst graph it is posible to visualize data in a 'pie' chart with more than one variable, for example, using the dataset of Spotity, the values of 'energy' were shown and divided by their genre and album. "
      ],
      "metadata": {
        "id": "u5gjXyiZVaJN"
      }
    },
    {
      "cell_type": "code",
      "source": [
        "pip install dash"
      ],
      "metadata": {
        "colab": {
          "base_uri": "https://localhost:8080/",
          "height": 0
        },
        "id": "avbtodmakL3O",
        "outputId": "866dcb1e-7325-430e-d20f-f88d1ac6e247"
      },
      "execution_count": 47,
      "outputs": [
        {
          "output_type": "stream",
          "name": "stdout",
          "text": [
            "Collecting dash\n",
            "  Downloading dash-2.3.0-py3-none-any.whl (9.6 MB)\n",
            "\u001b[K     |████████████████████████████████| 9.6 MB 3.9 MB/s \n",
            "\u001b[?25hCollecting flask-compress\n",
            "  Downloading Flask_Compress-1.11-py3-none-any.whl (7.9 kB)\n",
            "Requirement already satisfied: plotly>=5.0.0 in /usr/local/lib/python3.7/dist-packages (from dash) (5.5.0)\n",
            "Collecting dash-html-components==2.0.0\n",
            "  Downloading dash_html_components-2.0.0-py3-none-any.whl (4.1 kB)\n",
            "Requirement already satisfied: Flask>=1.0.4 in /usr/local/lib/python3.7/dist-packages (from dash) (1.1.4)\n",
            "Collecting dash-table==5.0.0\n",
            "  Downloading dash_table-5.0.0-py3-none-any.whl (3.9 kB)\n",
            "Collecting dash-core-components==2.0.0\n",
            "  Downloading dash_core_components-2.0.0-py3-none-any.whl (3.8 kB)\n",
            "Requirement already satisfied: Jinja2<3.0,>=2.10.1 in /usr/local/lib/python3.7/dist-packages (from Flask>=1.0.4->dash) (2.11.3)\n",
            "Requirement already satisfied: itsdangerous<2.0,>=0.24 in /usr/local/lib/python3.7/dist-packages (from Flask>=1.0.4->dash) (1.1.0)\n",
            "Requirement already satisfied: click<8.0,>=5.1 in /usr/local/lib/python3.7/dist-packages (from Flask>=1.0.4->dash) (7.1.2)\n",
            "Requirement already satisfied: Werkzeug<2.0,>=0.15 in /usr/local/lib/python3.7/dist-packages (from Flask>=1.0.4->dash) (1.0.1)\n",
            "Requirement already satisfied: MarkupSafe>=0.23 in /usr/local/lib/python3.7/dist-packages (from Jinja2<3.0,>=2.10.1->Flask>=1.0.4->dash) (2.0.1)\n",
            "Requirement already satisfied: six in /usr/local/lib/python3.7/dist-packages (from plotly>=5.0.0->dash) (1.15.0)\n",
            "Requirement already satisfied: tenacity>=6.2.0 in /usr/local/lib/python3.7/dist-packages (from plotly>=5.0.0->dash) (8.0.1)\n",
            "Collecting brotli\n",
            "  Downloading Brotli-1.0.9-cp37-cp37m-manylinux1_x86_64.whl (357 kB)\n",
            "\u001b[K     |████████████████████████████████| 357 kB 59.3 MB/s \n",
            "\u001b[?25hInstalling collected packages: brotli, flask-compress, dash-table, dash-html-components, dash-core-components, dash\n",
            "Successfully installed brotli-1.0.9 dash-2.3.0 dash-core-components-2.0.0 dash-html-components-2.0.0 dash-table-5.0.0 flask-compress-1.11\n"
          ]
        }
      ]
    },
    {
      "cell_type": "code",
      "source": [
        "pip install jupyter_dash"
      ],
      "metadata": {
        "colab": {
          "base_uri": "https://localhost:8080/",
          "height": 0
        },
        "id": "NWMBZO55nbGC",
        "outputId": "b20ad737-4141-41a2-d063-4d3c091a27d2"
      },
      "execution_count": 48,
      "outputs": [
        {
          "output_type": "stream",
          "name": "stdout",
          "text": [
            "Collecting jupyter_dash\n",
            "  Downloading jupyter_dash-0.4.1-py3-none-any.whl (17 kB)\n",
            "Requirement already satisfied: ipython in /usr/local/lib/python3.7/dist-packages (from jupyter_dash) (5.5.0)\n",
            "Requirement already satisfied: requests in /usr/local/lib/python3.7/dist-packages (from jupyter_dash) (2.23.0)\n",
            "Requirement already satisfied: ipykernel in /usr/local/lib/python3.7/dist-packages (from jupyter_dash) (4.10.1)\n",
            "Collecting ansi2html\n",
            "  Downloading ansi2html-1.7.0-py3-none-any.whl (15 kB)\n",
            "Collecting retrying\n",
            "  Downloading retrying-1.3.3.tar.gz (10 kB)\n",
            "Requirement already satisfied: dash in /usr/local/lib/python3.7/dist-packages (from jupyter_dash) (2.3.0)\n",
            "Requirement already satisfied: flask in /usr/local/lib/python3.7/dist-packages (from jupyter_dash) (1.1.4)\n",
            "Requirement already satisfied: importlib-metadata in /usr/local/lib/python3.7/dist-packages (from ansi2html->jupyter_dash) (4.11.2)\n",
            "Requirement already satisfied: dash-html-components==2.0.0 in /usr/local/lib/python3.7/dist-packages (from dash->jupyter_dash) (2.0.0)\n",
            "Requirement already satisfied: dash-table==5.0.0 in /usr/local/lib/python3.7/dist-packages (from dash->jupyter_dash) (5.0.0)\n",
            "Requirement already satisfied: plotly>=5.0.0 in /usr/local/lib/python3.7/dist-packages (from dash->jupyter_dash) (5.5.0)\n",
            "Requirement already satisfied: flask-compress in /usr/local/lib/python3.7/dist-packages (from dash->jupyter_dash) (1.11)\n",
            "Requirement already satisfied: dash-core-components==2.0.0 in /usr/local/lib/python3.7/dist-packages (from dash->jupyter_dash) (2.0.0)\n",
            "Requirement already satisfied: itsdangerous<2.0,>=0.24 in /usr/local/lib/python3.7/dist-packages (from flask->jupyter_dash) (1.1.0)\n",
            "Requirement already satisfied: Jinja2<3.0,>=2.10.1 in /usr/local/lib/python3.7/dist-packages (from flask->jupyter_dash) (2.11.3)\n",
            "Requirement already satisfied: Werkzeug<2.0,>=0.15 in /usr/local/lib/python3.7/dist-packages (from flask->jupyter_dash) (1.0.1)\n",
            "Requirement already satisfied: click<8.0,>=5.1 in /usr/local/lib/python3.7/dist-packages (from flask->jupyter_dash) (7.1.2)\n",
            "Requirement already satisfied: MarkupSafe>=0.23 in /usr/local/lib/python3.7/dist-packages (from Jinja2<3.0,>=2.10.1->flask->jupyter_dash) (2.0.1)\n",
            "Requirement already satisfied: tenacity>=6.2.0 in /usr/local/lib/python3.7/dist-packages (from plotly>=5.0.0->dash->jupyter_dash) (8.0.1)\n",
            "Requirement already satisfied: six in /usr/local/lib/python3.7/dist-packages (from plotly>=5.0.0->dash->jupyter_dash) (1.15.0)\n",
            "Requirement already satisfied: brotli in /usr/local/lib/python3.7/dist-packages (from flask-compress->dash->jupyter_dash) (1.0.9)\n",
            "Requirement already satisfied: zipp>=0.5 in /usr/local/lib/python3.7/dist-packages (from importlib-metadata->ansi2html->jupyter_dash) (3.7.0)\n",
            "Requirement already satisfied: typing-extensions>=3.6.4 in /usr/local/lib/python3.7/dist-packages (from importlib-metadata->ansi2html->jupyter_dash) (3.10.0.2)\n",
            "Requirement already satisfied: traitlets>=4.1.0 in /usr/local/lib/python3.7/dist-packages (from ipykernel->jupyter_dash) (5.1.1)\n",
            "Requirement already satisfied: jupyter-client in /usr/local/lib/python3.7/dist-packages (from ipykernel->jupyter_dash) (5.3.5)\n",
            "Requirement already satisfied: tornado>=4.0 in /usr/local/lib/python3.7/dist-packages (from ipykernel->jupyter_dash) (5.1.1)\n",
            "Requirement already satisfied: setuptools>=18.5 in /usr/local/lib/python3.7/dist-packages (from ipython->jupyter_dash) (57.4.0)\n",
            "Requirement already satisfied: pickleshare in /usr/local/lib/python3.7/dist-packages (from ipython->jupyter_dash) (0.7.5)\n",
            "Requirement already satisfied: simplegeneric>0.8 in /usr/local/lib/python3.7/dist-packages (from ipython->jupyter_dash) (0.8.1)\n",
            "Requirement already satisfied: prompt-toolkit<2.0.0,>=1.0.4 in /usr/local/lib/python3.7/dist-packages (from ipython->jupyter_dash) (1.0.18)\n",
            "Requirement already satisfied: pygments in /usr/local/lib/python3.7/dist-packages (from ipython->jupyter_dash) (2.6.1)\n",
            "Requirement already satisfied: pexpect in /usr/local/lib/python3.7/dist-packages (from ipython->jupyter_dash) (4.8.0)\n",
            "Requirement already satisfied: decorator in /usr/local/lib/python3.7/dist-packages (from ipython->jupyter_dash) (4.4.2)\n",
            "Requirement already satisfied: wcwidth in /usr/local/lib/python3.7/dist-packages (from prompt-toolkit<2.0.0,>=1.0.4->ipython->jupyter_dash) (0.2.5)\n",
            "Requirement already satisfied: python-dateutil>=2.1 in /usr/local/lib/python3.7/dist-packages (from jupyter-client->ipykernel->jupyter_dash) (2.8.2)\n",
            "Requirement already satisfied: jupyter-core>=4.6.0 in /usr/local/lib/python3.7/dist-packages (from jupyter-client->ipykernel->jupyter_dash) (4.9.2)\n",
            "Requirement already satisfied: pyzmq>=13 in /usr/local/lib/python3.7/dist-packages (from jupyter-client->ipykernel->jupyter_dash) (22.3.0)\n",
            "Requirement already satisfied: ptyprocess>=0.5 in /usr/local/lib/python3.7/dist-packages (from pexpect->ipython->jupyter_dash) (0.7.0)\n",
            "Requirement already satisfied: idna<3,>=2.5 in /usr/local/lib/python3.7/dist-packages (from requests->jupyter_dash) (2.10)\n",
            "Requirement already satisfied: urllib3!=1.25.0,!=1.25.1,<1.26,>=1.21.1 in /usr/local/lib/python3.7/dist-packages (from requests->jupyter_dash) (1.24.3)\n",
            "Requirement already satisfied: certifi>=2017.4.17 in /usr/local/lib/python3.7/dist-packages (from requests->jupyter_dash) (2021.10.8)\n",
            "Requirement already satisfied: chardet<4,>=3.0.2 in /usr/local/lib/python3.7/dist-packages (from requests->jupyter_dash) (3.0.4)\n",
            "Building wheels for collected packages: retrying\n",
            "  Building wheel for retrying (setup.py) ... \u001b[?25l\u001b[?25hdone\n",
            "  Created wheel for retrying: filename=retrying-1.3.3-py3-none-any.whl size=11447 sha256=fda2bcd55d433bff80bd0eea70cf2740855fc980eedd65d450a41a44e11a9b8d\n",
            "  Stored in directory: /root/.cache/pip/wheels/f9/8d/8d/f6af3f7f9eea3553bc2fe6d53e4b287dad18b06a861ac56ddf\n",
            "Successfully built retrying\n",
            "Installing collected packages: retrying, ansi2html, jupyter-dash\n",
            "Successfully installed ansi2html-1.7.0 jupyter-dash-0.4.1 retrying-1.3.3\n"
          ]
        }
      ]
    },
    {
      "cell_type": "code",
      "source": [
        "import dash\n",
        "from dash import html"
      ],
      "metadata": {
        "id": "qGmIG5c2nc4n"
      },
      "execution_count": 49,
      "outputs": []
    },
    {
      "cell_type": "code",
      "source": [
        "from dash import dcc"
      ],
      "metadata": {
        "id": "R4jbnB72nfQu"
      },
      "execution_count": 50,
      "outputs": []
    },
    {
      "cell_type": "code",
      "source": [
        "from jupyter_dash import JupyterDash"
      ],
      "metadata": {
        "id": "JefWBHqyngge"
      },
      "execution_count": 51,
      "outputs": []
    },
    {
      "cell_type": "markdown",
      "source": [
        "### Can all my graphs be shown in a dashboard?"
      ],
      "metadata": {
        "id": "6AIMZ-mXVu9k"
      }
    },
    {
      "cell_type": "code",
      "source": [
        "p2 = JupyterDash(__name__)\n",
        "p2.layout = html.Div(children=[html.H1('Sunburst',\n",
        "                                       ),\n",
        "                               dcc.Graph(figure = fig),\n",
        "                               #dcc.Graph(figure = ab),\n",
        "                               #dcc.Graph(figure = nic),\n",
        "                               #dcc.Graph(figure = plot1),\n",
        "\n",
        "                               ]\n",
        "                     )\n",
        "if __name__ =='__main__':\n",
        "  p2.run_server()"
      ],
      "metadata": {
        "colab": {
          "base_uri": "https://localhost:8080/",
          "height": 52
        },
        "id": "UKEaAsZPnhn-",
        "outputId": "f02fcf8f-0918-4588-cb7f-5ab967820e63"
      },
      "execution_count": 61,
      "outputs": [
        {
          "output_type": "stream",
          "name": "stdout",
          "text": [
            "Dash app running on:\n"
          ]
        },
        {
          "output_type": "display_data",
          "data": {
            "text/plain": [
              "<IPython.core.display.Javascript object>"
            ],
            "application/javascript": [
              "(async (port, path, text, element) => {\n",
              "    if (!google.colab.kernel.accessAllowed) {\n",
              "      return;\n",
              "    }\n",
              "    element.appendChild(document.createTextNode(''));\n",
              "    const url = await google.colab.kernel.proxyPort(port);\n",
              "    const anchor = document.createElement('a');\n",
              "    anchor.href = new URL(path, url).toString();\n",
              "    anchor.target = '_blank';\n",
              "    anchor.setAttribute('data-href', url + path);\n",
              "    anchor.textContent = text;\n",
              "    element.appendChild(anchor);\n",
              "  })(8050, \"/\", \"http://127.0.0.1:8050/\", window.element)"
            ]
          },
          "metadata": {}
        }
      ]
    },
    {
      "cell_type": "markdown",
      "source": [
        "###Conclusion --> Using a code that was used on class, only the sunburst graphs were able to be displayed on the dashboard, while the others caused an 'Error loading layout' while loading the dash app, that's why they are as a comment#. "
      ],
      "metadata": {
        "id": "n2Lt78iKo97E"
      }
    },
    {
      "cell_type": "markdown",
      "source": [
        "# Final Conclusion\n",
        "\n",
        "The fact that we can make graphs without using a typical application like Excel, by coding it's a great way to categorize variables, finding relationships between data, renaming columns and creating new data. This is exactly what I did using a database of my choice, which in this case was the Top 50 tracks on Spotify in 2020. \n",
        "\n",
        "With the use of functions of regression analysis and correlation I was able to demonstrate that the independent variables have different impacts, the ones that I used were the variables on the energy of the song depending on the tempo.\n",
        "\n"
      ],
      "metadata": {
        "id": "uILgjjwgdhvQ"
      }
    },
    {
      "cell_type": "code",
      "source": [
        ""
      ],
      "metadata": {
        "id": "o4fkwaJrowdU"
      },
      "execution_count": null,
      "outputs": []
    },
    {
      "cell_type": "markdown",
      "source": [
        ""
      ],
      "metadata": {
        "id": "zS7wqQesbRtC"
      }
    }
  ]
}